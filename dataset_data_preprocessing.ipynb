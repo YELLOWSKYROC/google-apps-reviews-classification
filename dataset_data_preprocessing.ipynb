{
 "cells": [
  {
   "cell_type": "code",
   "execution_count": 1,
   "metadata": {},
   "outputs": [],
   "source": [
    "import openpyxl\n",
    "import nltk\n",
    "import string\n",
    "import re\n",
    "import pandas as pd\n",
    "import numpy as np\n",
    "\n",
    "from scipy import stats\n",
    "from nltk.stem import PorterStemmer\n",
    "from nltk.stem import WordNetLemmatizer\n",
    "from nltk.corpus import wordnet, stopwords\n",
    "from nltk.tokenize import word_tokenize"
   ]
  },
  {
   "cell_type": "markdown",
   "metadata": {},
   "source": [
    "# NLP pre-processing"
   ]
  },
  {
   "cell_type": "markdown",
   "metadata": {},
   "source": [
    "## Original data"
   ]
  },
  {
   "cell_type": "code",
   "execution_count": 43,
   "metadata": {},
   "outputs": [
    {
     "data": {
      "text/html": [
       "<div>\n",
       "<style scoped>\n",
       "    .dataframe tbody tr th:only-of-type {\n",
       "        vertical-align: middle;\n",
       "    }\n",
       "\n",
       "    .dataframe tbody tr th {\n",
       "        vertical-align: top;\n",
       "    }\n",
       "\n",
       "    .dataframe thead th {\n",
       "        text-align: right;\n",
       "    }\n",
       "</style>\n",
       "<table border=\"1\" class=\"dataframe\">\n",
       "  <thead>\n",
       "    <tr style=\"text-align: right;\">\n",
       "      <th></th>\n",
       "      <th>ID</th>\n",
       "      <th>review</th>\n",
       "      <th>label</th>\n",
       "      <th>new_label</th>\n",
       "      <th>remove_all_stopwords</th>\n",
       "      <th>remove_some_stopwords</th>\n",
       "      <th>stemming</th>\n",
       "      <th>lemmatization</th>\n",
       "    </tr>\n",
       "  </thead>\n",
       "  <tbody>\n",
       "    <tr>\n",
       "      <th>0</th>\n",
       "      <td>1</td>\n",
       "      <td>Not able to add freinds. It show something wen...</td>\n",
       "      <td>bug report</td>\n",
       "      <td>0</td>\n",
       "      <td>able add freinds show something went wrong rec...</td>\n",
       "      <td>not able add freinds show something went wrong...</td>\n",
       "      <td>not abl to add freind it show someth went wron...</td>\n",
       "      <td>not able to add freinds it show something went...</td>\n",
       "    </tr>\n",
       "    <tr>\n",
       "      <th>1</th>\n",
       "      <td>2</td>\n",
       "      <td>Calls keep dropping for no reason and is super...</td>\n",
       "      <td>bug report</td>\n",
       "      <td>0</td>\n",
       "      <td>calls keep dropping reason super annoying</td>\n",
       "      <td>calls keep dropping no reason super annoying</td>\n",
       "      <td>call keep drop for no reason and is super annoy</td>\n",
       "      <td>call keep dropping for no reason and is super ...</td>\n",
       "    </tr>\n",
       "    <tr>\n",
       "      <th>2</th>\n",
       "      <td>3</td>\n",
       "      <td>Can't access to my account solve this issue im...</td>\n",
       "      <td>bug report</td>\n",
       "      <td>0</td>\n",
       "      <td>cant access account solve issue immediately</td>\n",
       "      <td>cant access account solve issue immediately</td>\n",
       "      <td>cant access to my account solv thi issu immedi</td>\n",
       "      <td>cant access to my account solve this issue imm...</td>\n",
       "    </tr>\n",
       "    <tr>\n",
       "      <th>3</th>\n",
       "      <td>4</td>\n",
       "      <td>I don't know what's wrong with my own WhatsApp...</td>\n",
       "      <td>bug report</td>\n",
       "      <td>0</td>\n",
       "      <td>dont know whats wrong whatsapp working want si...</td>\n",
       "      <td>dont know whats wrong whatsapp not working wan...</td>\n",
       "      <td>i dont know what wrong with my own whatsapp it...</td>\n",
       "      <td>i dont know whats wrong with my own whatsapp i...</td>\n",
       "    </tr>\n",
       "    <tr>\n",
       "      <th>4</th>\n",
       "      <td>5</td>\n",
       "      <td>Cannot record audio while taking video</td>\n",
       "      <td>bug report</td>\n",
       "      <td>0</td>\n",
       "      <td>cannot record audio taking video</td>\n",
       "      <td>cannot record audio taking video</td>\n",
       "      <td>cannot record audio while take video</td>\n",
       "      <td>cannot record audio while taking video</td>\n",
       "    </tr>\n",
       "  </tbody>\n",
       "</table>\n",
       "</div>"
      ],
      "text/plain": [
       "   ID                                             review       label  \\\n",
       "0   1  Not able to add freinds. It show something wen...  bug report   \n",
       "1   2  Calls keep dropping for no reason and is super...  bug report   \n",
       "2   3  Can't access to my account solve this issue im...  bug report   \n",
       "3   4  I don't know what's wrong with my own WhatsApp...  bug report   \n",
       "4   5             Cannot record audio while taking video  bug report   \n",
       "\n",
       "   new_label                               remove_all_stopwords  \\\n",
       "0          0  able add freinds show something went wrong rec...   \n",
       "1          0          calls keep dropping reason super annoying   \n",
       "2          0        cant access account solve issue immediately   \n",
       "3          0  dont know whats wrong whatsapp working want si...   \n",
       "4          0                   cannot record audio taking video   \n",
       "\n",
       "                               remove_some_stopwords  \\\n",
       "0  not able add freinds show something went wrong...   \n",
       "1       calls keep dropping no reason super annoying   \n",
       "2        cant access account solve issue immediately   \n",
       "3  dont know whats wrong whatsapp not working wan...   \n",
       "4                   cannot record audio taking video   \n",
       "\n",
       "                                            stemming  \\\n",
       "0  not abl to add freind it show someth went wron...   \n",
       "1    call keep drop for no reason and is super annoy   \n",
       "2     cant access to my account solv thi issu immedi   \n",
       "3  i dont know what wrong with my own whatsapp it...   \n",
       "4               cannot record audio while take video   \n",
       "\n",
       "                                       lemmatization  \n",
       "0  not able to add freinds it show something went...  \n",
       "1  call keep dropping for no reason and is super ...  \n",
       "2  cant access to my account solve this issue imm...  \n",
       "3  i dont know whats wrong with my own whatsapp i...  \n",
       "4             cannot record audio while taking video  "
      ]
     },
     "execution_count": 43,
     "metadata": {},
     "output_type": "execute_result"
    }
   ],
   "source": [
    "# df = pd.read_excel(\"./data/dataset_balanced_4000.xlsx\")\n",
    "# df = pd.read_excel(\"./data/dataset_unbalanced_4000.xlsx\")\n",
    "df = pd.read_excel(\"./data/dataset_balanced_8000.xlsx\")\n",
    "\n",
    "df.head()"
   ]
  },
  {
   "cell_type": "code",
   "execution_count": 42,
   "metadata": {},
   "outputs": [
    {
     "data": {
      "text/plain": [
       "bug report         2000\n",
       "rating             2000\n",
       "feature request    2000\n",
       "user experience    2000\n",
       "Name: label, dtype: int64"
      ]
     },
     "execution_count": 42,
     "metadata": {},
     "output_type": "execute_result"
    }
   ],
   "source": [
    "df['label'].value_counts()"
   ]
  },
  {
   "cell_type": "code",
   "execution_count": 8,
   "metadata": {},
   "outputs": [],
   "source": [
    "# workbook = openpyxl.load_workbook(\"./data/dataset_NLU.xlsx\")\n",
    "# sheet = workbook['Sheet1']\n",
    "\n",
    "# max_row = sheet.max_row\n",
    "# for i in range(2,max_row+1):\n",
    "#     label = sheet.cell(i, 3).value\n",
    "#     if label == 'bug report':\n",
    "#         sheet.cell(i, 4).value = 0\n",
    "#     if label == 'feature request':\n",
    "#         sheet.cell(i, 4).value = 1\n",
    "#     if label == 'rating':\n",
    "#         sheet.cell(i, 4).value = 2\n",
    "#     if label == 'user experience':\n",
    "#         sheet.cell(i, 4).value = 3\n",
    "    \n",
    "# workbook.save(\"./data/dataset_NLU.xlsx\")\n",
    "# workbook.close()\n",
    "# print(\"over\")"
   ]
  },
  {
   "cell_type": "markdown",
   "metadata": {},
   "source": [
    "## 1. Remove Full stop words"
   ]
  },
  {
   "cell_type": "code",
   "execution_count": 29,
   "metadata": {},
   "outputs": [],
   "source": [
    "en_stops = set(stopwords.words('english'))\n",
    "\n",
    "def removeFullstop(review: str) -> list:\n",
    "    # remove non alphanumeric \n",
    "    data_clean = \"\".join(re.findall(r'[A-Za-z0-9 ]', review))\n",
    "    # case folding\n",
    "    lower_data = data_clean.lower()\n",
    "    # split into list\n",
    "    data_list = lower_data.split(\" \")\n",
    "    # remove blank space\n",
    "    data_list = [i for i in data_list if i != \"\"]\n",
    "    # remove stopwords\n",
    "    token = [i for i in data_list if i not in en_stops]\n",
    "    \n",
    "    return token"
   ]
  },
  {
   "cell_type": "code",
   "execution_count": 30,
   "metadata": {},
   "outputs": [
    {
     "name": "stdout",
     "output_type": "stream",
     "text": [
      "['able', 'add', 'freinds', 'show', 'something', 'went', 'wrong', 'recommend', 'install']\n"
     ]
    }
   ],
   "source": [
    "workbook = openpyxl.load_workbook(\"./data/dataset_balanced_8000.xlsx\")\n",
    "# workbook = openpyxl.load_workbook(\"./data/dataset_unbalanced_4000.xlsx\")\n",
    "sheet = workbook['Sheet1']\n",
    "\n",
    "review = sheet.cell(2, 2).value\n",
    "token = removeFullstop(review)\n",
    "print(token)"
   ]
  },
  {
   "cell_type": "code",
   "execution_count": 31,
   "metadata": {},
   "outputs": [
    {
     "name": "stdout",
     "output_type": "stream",
     "text": [
      "over\n"
     ]
    }
   ],
   "source": [
    "max_row = sheet.max_row\n",
    "for i in range(2,max_row+1):\n",
    "    review = sheet.cell(i, 2).value\n",
    "    word = removeFullstop(review)\n",
    "    sheet.cell(i, 5).value = str(\" \".join(word))\n",
    "\n",
    "workbook.save(\"./data/dataset_balanced_8000.xlsx\")\n",
    "# workbook.save(\"./data/dataset_unbalanced_4000.xlsx\")\n",
    "workbook.close()\n",
    "print(\"over\")"
   ]
  },
  {
   "cell_type": "markdown",
   "metadata": {},
   "source": [
    "## 2. Remove Some stop words"
   ]
  },
  {
   "cell_type": "code",
   "execution_count": 32,
   "metadata": {},
   "outputs": [
    {
     "name": "stdout",
     "output_type": "stream",
     "text": [
      "{'ain', \"you're\", 'them', 'been', 'again', 'off', 'those', 'under', 'down', \"weren't\", 'these', 'nor', 'your', 've', 'had', 'each', 'from', 'needn', \"wasn't\", 'she', 'me', 'ourselves', 'it', 'did', 'yourself', 't', 'myself', 'if', 'both', 'will', 'until', 'very', 'our', 'after', \"should've\", 's', 'but', \"hasn't\", 'up', 'haven', 'during', 'once', 'between', \"don't\", \"couldn't\", \"you've\", \"she's\", 'does', \"isn't\", \"you'll\", \"you'd\", 'above', 'as', 'was', \"aren't\", 'his', 'and', 'by', \"mightn't\", 'they', 'being', 'no', \"mustn't\", 'themselves', 'hasn', 'further', 'we', 'shouldn', 'hadn', 'own', 'my', 'herself', 'yourselves', 'him', \"didn't\", 'wasn', \"that'll\", 'are', 'be', 'he', 're', 'in', 'out', 'than', 'now', \"doesn't\", 'itself', 'yours', 'doing', 'what', 'why', 'most', 'there', 'aren', 'how', 'can', 'theirs', 'its', 'isn', 'with', 'won', 'some', 'any', \"hadn't\", 'wouldn', 'about', 'ours', 'm', 'mightn', 'before', 'that', 'or', 'should', \"haven't\", 'do', 'which', 'where', 'such', \"needn't\", \"wouldn't\", 'her', 'not', 'too', 'to', 'more', 'd', 'few', 'you', 'is', 'were', 'have', 'having', 'through', 'only', \"shan't\", 'y', 'over', 'weren', 'their', 'other', 'o', 'here', 'of', 'i', 'll', 'ma', 'when', 'this', 'whom', 'at', 'am', 'into', \"shouldn't\", 'below', 'who', 'mustn', 'then', 'hers', 'all', 'don', 'doesn', 'because', 'on', 'while', 'for', \"won't\", 'shan', 'same', 'an', \"it's\", 'a', 'himself', 'against', 'the', 'so', 'just', 'has', 'didn', 'couldn'}\n"
     ]
    }
   ],
   "source": [
    "en_stops = set(stopwords.words('english'))\n",
    "print(en_stops)"
   ]
  },
  {
   "cell_type": "code",
   "execution_count": 33,
   "metadata": {
    "scrolled": true
   },
   "outputs": [],
   "source": [
    "some_en_stops = {'each', 'does', 'by', 'of', 'o', 'between', 'herself', 'been', 'both', 'under', \"she's\", 'ourselves', 'what', 'our', 'was', 'such', 'an', 'if', 'before', 'own', 'your', 'who', 'her', 'him', 'we', 'its', 'yourself', 'theirs', 'or', 'how', 'here', 'with', 'for', 'themselves', 'any', 'them', 'those', 'yours', 'himself', 'doing', 'from', 'am', 'd', 'in', 'a', 'did', 'and', 're', 'myself', 'at', 'she', \"you're\", 'some', 'his', 'do', 'my', 'into', 'just', 'ours', 'is', 'above', 'over', 've', 'when', 'these', 'once', 'other', 'why', 'their', 'ma', 'about', 'y', \"that'll\", 'hasn', 'it', 'are', 'were', 'has', 'yourselves', \"doesn't\", 'shan', 'that', 'ain', 'they', 'i', 'whom', 'weren', \"it's\", 'itself', 'there', 'while', 'you', 'he', 'then', 'm', 'the', 'this', 'as', 'be', 'on', 'having', 'had', 'which', \"you've\", 'to', 'where', 'me', 'being', 's'}"
   ]
  },
  {
   "cell_type": "code",
   "execution_count": 34,
   "metadata": {},
   "outputs": [],
   "source": [
    "def removeSomestop(review: str) -> list:\n",
    "    # remove non alphanumeric \n",
    "    data_clean = \"\".join(re.findall(r'[A-Za-z0-9 ]', review))\n",
    "    # case folding\n",
    "    lower_data = data_clean.lower()\n",
    "    # split into list\n",
    "    data_list = lower_data.split(\" \")\n",
    "    # remove blank space\n",
    "    data_list = [i for i in data_list if i != \"\"]\n",
    "    # remove stopwords\n",
    "    token = [i for i in data_list if i not in some_en_stops]\n",
    "    \n",
    "    return token"
   ]
  },
  {
   "cell_type": "code",
   "execution_count": 35,
   "metadata": {},
   "outputs": [
    {
     "name": "stdout",
     "output_type": "stream",
     "text": [
      "['not', 'able', 'add', 'freinds', 'show', 'something', 'went', 'wrong', 'recommend', 'not', 'install']\n"
     ]
    }
   ],
   "source": [
    "workbook = openpyxl.load_workbook(\"./data/dataset_balanced_8000.xlsx\")\n",
    "# workbook = openpyxl.load_workbook(\"./data/dataset_unbalanced_4000.xlsx\")\n",
    "sheet = workbook['Sheet1']\n",
    "\n",
    "review = sheet.cell(2, 2).value\n",
    "token = removeSomestop(review)\n",
    "print(token)"
   ]
  },
  {
   "cell_type": "code",
   "execution_count": 36,
   "metadata": {},
   "outputs": [
    {
     "name": "stdout",
     "output_type": "stream",
     "text": [
      "over\n"
     ]
    }
   ],
   "source": [
    "max_row = sheet.max_row\n",
    "for i in range(2,max_row+1):\n",
    "    review = sheet.cell(i, 2).value\n",
    "    word = removeSomestop(review)\n",
    "    sheet.cell(i, 6).value = str(\" \".join(word))\n",
    "\n",
    "workbook.save(\"./data/dataset_balanced_8000.xlsx\")\n",
    "# workbook.save(\"./data/dataset_unbalanced_4000.xlsx\")\n",
    "workbook.close()\n",
    "print(\"over\")"
   ]
  },
  {
   "cell_type": "markdown",
   "metadata": {},
   "source": [
    "## 3. Stemming"
   ]
  },
  {
   "cell_type": "code",
   "execution_count": 17,
   "metadata": {},
   "outputs": [],
   "source": [
    "porter = nltk.PorterStemmer()\n",
    "\n",
    "def stemming(review: str) -> list:\n",
    "    # remove non alphanumeric \n",
    "    data_clean = \"\".join(re.findall(r'[A-Za-z0-9 ]', review))\n",
    "    # case folding\n",
    "    lower_data = data_clean.lower()\n",
    "    # split into list\n",
    "    data_list = lower_data.split(\" \")\n",
    "    # remove blank space\n",
    "    data_list = [i for i in data_list if i != \"\"]\n",
    "    # Stemming\n",
    "    token = [porter.stem(w) for w in data_list]\n",
    "    \n",
    "    return token"
   ]
  },
  {
   "cell_type": "code",
   "execution_count": 37,
   "metadata": {},
   "outputs": [
    {
     "name": "stdout",
     "output_type": "stream",
     "text": [
      "['not', 'abl', 'to', 'add', 'freind', 'it', 'show', 'someth', 'went', 'wrong', 'recommend', 'not', 'to', 'instal', 'it']\n"
     ]
    }
   ],
   "source": [
    "workbook = openpyxl.load_workbook(\"./data/dataset_balanced_8000.xlsx\")\n",
    "# workbook = openpyxl.load_workbook(\"./data/dataset_unbalanced_4000.xlsx\")\n",
    "sheet = workbook['Sheet1']\n",
    "\n",
    "review = sheet.cell(2, 2).value\n",
    "token = stemming(review)\n",
    "print(token)"
   ]
  },
  {
   "cell_type": "code",
   "execution_count": 38,
   "metadata": {},
   "outputs": [
    {
     "name": "stdout",
     "output_type": "stream",
     "text": [
      "over\n"
     ]
    }
   ],
   "source": [
    "max_row = sheet.max_row\n",
    "for i in range(2,max_row+1):\n",
    "    review = sheet.cell(i, 2).value\n",
    "    word = stemming(review)\n",
    "    sheet.cell(i, 7).value = str(\" \".join(word))\n",
    "\n",
    "workbook.save(\"./data/dataset_balanced_8000.xlsx\")\n",
    "# workbook.save(\"./data/dataset_unbalanced_4000.xlsx\")\n",
    "workbook.close()\n",
    "print(\"over\")"
   ]
  },
  {
   "cell_type": "markdown",
   "metadata": {},
   "source": [
    "## Lemmatization"
   ]
  },
  {
   "cell_type": "code",
   "execution_count": 21,
   "metadata": {},
   "outputs": [],
   "source": [
    "wnl = nltk.WordNetLemmatizer()\n",
    "\n",
    "def lemmatization(review: str) -> list:\n",
    "    # remove non alphanumeric \n",
    "    data_clean = \"\".join(re.findall(r'[A-Za-z0-9 ]', review))\n",
    "    # case folding\n",
    "    lower_data = data_clean.lower()\n",
    "    # split into list\n",
    "    data_list = lower_data.split(\" \")\n",
    "    # remove blank space\n",
    "    data_list = [i for i in data_list if i != \"\"]\n",
    "    # Lemmatization\n",
    "    token = [wnl.lemmatize(s) for s in data_list]\n",
    "    \n",
    "    return token"
   ]
  },
  {
   "cell_type": "code",
   "execution_count": 39,
   "metadata": {},
   "outputs": [
    {
     "name": "stdout",
     "output_type": "stream",
     "text": [
      "Not able to add freinds. It show something went wrong.. Recommend not to install it\n",
      "['not', 'able', 'to', 'add', 'freinds', 'it', 'show', 'something', 'went', 'wrong', 'recommend', 'not', 'to', 'install', 'it']\n"
     ]
    }
   ],
   "source": [
    "workbook = openpyxl.load_workbook(\"./data/dataset_balanced_8000.xlsx\")\n",
    "# workbook = openpyxl.load_workbook(\"./data/dataset_unbalanced_4000.xlsx\")\n",
    "sheet = workbook['Sheet1']\n",
    "\n",
    "review = sheet.cell(2, 2).value\n",
    "print(review)\n",
    "token = lemmatization(review)\n",
    "print(token)"
   ]
  },
  {
   "cell_type": "code",
   "execution_count": 40,
   "metadata": {},
   "outputs": [
    {
     "name": "stdout",
     "output_type": "stream",
     "text": [
      "over\n"
     ]
    }
   ],
   "source": [
    "max_row = sheet.max_row\n",
    "for i in range(2,max_row+1):\n",
    "    review = sheet.cell(i, 2).value\n",
    "    word = lemmatization(review)\n",
    "    sheet.cell(i, 8).value = str(\" \".join(word))\n",
    "\n",
    "workbook.save(\"./data/dataset_balanced_8000.xlsx\")\n",
    "# workbook.save(\"./data/dataset_unbalanced_4000.xlsx\")\n",
    "workbook.close()\n",
    "print(\"over\")"
   ]
  },
  {
   "cell_type": "code",
   "execution_count": 20,
   "metadata": {},
   "outputs": [],
   "source": [
    "en_stops = set(stopwords.words('english'))\n",
    "# wnl = nltk.WordNetLemmatizer()\n",
    "porter = nltk.PorterStemmer()\n",
    "\n",
    "def ReviewProcessing(review: str) -> list:\n",
    "    # remove non alphanumeric \n",
    "    data_clean = \"\".join(re.findall(r'[A-Za-z0-9 ]', review))\n",
    "    # case folding\n",
    "    lower_data = data_clean.lower()\n",
    "    # split into list\n",
    "    data_list = lower_data.split(\" \")\n",
    "    # remove blank space\n",
    "    data_list = [i for i in data_list if i != \"\"]\n",
    "    # remove stopwords\n",
    "    # word = [i for i in data_list if i not in en_stops]\n",
    "    # Stemming\n",
    "    word_stem = [porter.stem(w) for w in word]\n",
    "#     # Lemmatization\n",
    "#     data = [wnl.lemmatize(s) for s in word_stem]\n",
    "    \n",
    "    return word"
   ]
  },
  {
   "cell_type": "code",
   "execution_count": 9,
   "metadata": {},
   "outputs": [
    {
     "name": "stdout",
     "output_type": "stream",
     "text": [
      "['trying', 'get', 'take', 'card', 'one', 'person', 'contact', 'way', 'want', 'anything', 'company', 'cant', 'old', 'fashion', 'talk', 'someone', 'sorry', 'company', 'wish', 'deal', 'youre', 'u', 'cant', 'speak']\n"
     ]
    }
   ],
   "source": [
    "review = sheet.cell(3907, 2).value\n",
    "word = ReviewProcessing(review)\n",
    "print(word)"
   ]
  },
  {
   "cell_type": "code",
   "execution_count": 10,
   "metadata": {},
   "outputs": [
    {
     "name": "stdout",
     "output_type": "stream",
     "text": [
      "over\n"
     ]
    }
   ],
   "source": [
    "max_row = sheet.max_row\n",
    "for i in range(2,max_row+1):\n",
    "    review = sheet.cell(i, 2).value\n",
    "    word = ReviewProcessing(review)\n",
    "    sheet.cell(i, 5).value = str(\" \".join(word))\n",
    "\n",
    "workbook.save(\"./data/dataset.xlsx\")\n",
    "workbook.close()\n",
    "print(\"over\")"
   ]
  },
  {
   "cell_type": "code",
   "execution_count": 43,
   "metadata": {},
   "outputs": [
    {
     "data": {
      "text/html": [
       "<div>\n",
       "<style scoped>\n",
       "    .dataframe tbody tr th:only-of-type {\n",
       "        vertical-align: middle;\n",
       "    }\n",
       "\n",
       "    .dataframe tbody tr th {\n",
       "        vertical-align: top;\n",
       "    }\n",
       "\n",
       "    .dataframe thead th {\n",
       "        text-align: right;\n",
       "    }\n",
       "</style>\n",
       "<table border=\"1\" class=\"dataframe\">\n",
       "  <thead>\n",
       "    <tr style=\"text-align: right;\">\n",
       "      <th></th>\n",
       "      <th>preprocessing</th>\n",
       "      <th>label</th>\n",
       "    </tr>\n",
       "  </thead>\n",
       "  <tbody>\n",
       "    <tr>\n",
       "      <th>0</th>\n",
       "      <td>able add freinds show something went wrong .. ...</td>\n",
       "      <td>bug report</td>\n",
       "    </tr>\n",
       "    <tr>\n",
       "      <th>1</th>\n",
       "      <td>calls keep dropping reason super annoying</td>\n",
       "      <td>bug report</td>\n",
       "    </tr>\n",
       "    <tr>\n",
       "      <th>2</th>\n",
       "      <td>ca n't access account solve issue immediately</td>\n",
       "      <td>bug report</td>\n",
       "    </tr>\n",
       "    <tr>\n",
       "      <th>3</th>\n",
       "      <td>n't know 's wrong whatsapp working want sign b...</td>\n",
       "      <td>bug report</td>\n",
       "    </tr>\n",
       "    <tr>\n",
       "      <th>4</th>\n",
       "      <td>record audio taking video</td>\n",
       "      <td>bug report</td>\n",
       "    </tr>\n",
       "    <tr>\n",
       "      <th>5</th>\n",
       "      <td>ca n't turn notifications app crush notificati...</td>\n",
       "      <td>bug report</td>\n",
       "    </tr>\n",
       "    <tr>\n",
       "      <th>6</th>\n",
       "      <td>videos turning green shoot .. please help</td>\n",
       "      <td>bug report</td>\n",
       "    </tr>\n",
       "    <tr>\n",
       "      <th>7</th>\n",
       "      <td>snaps n't sending reason time snapchats wrong ...</td>\n",
       "      <td>bug report</td>\n",
       "    </tr>\n",
       "    <tr>\n",
       "      <th>8</th>\n",
       "      <td>app disappointing messages taking long send</td>\n",
       "      <td>bug report</td>\n",
       "    </tr>\n",
       "    <tr>\n",
       "      <th>9</th>\n",
       "      <td>try make filter video 's hanging video lagging...</td>\n",
       "      <td>bug report</td>\n",
       "    </tr>\n",
       "  </tbody>\n",
       "</table>\n",
       "</div>"
      ],
      "text/plain": [
       "                                       preprocessing       label\n",
       "0  able add freinds show something went wrong .. ...  bug report\n",
       "1          calls keep dropping reason super annoying  bug report\n",
       "2      ca n't access account solve issue immediately  bug report\n",
       "3  n't know 's wrong whatsapp working want sign b...  bug report\n",
       "4                          record audio taking video  bug report\n",
       "5  ca n't turn notifications app crush notificati...  bug report\n",
       "6          videos turning green shoot .. please help  bug report\n",
       "7  snaps n't sending reason time snapchats wrong ...  bug report\n",
       "8        app disappointing messages taking long send  bug report\n",
       "9  try make filter video 's hanging video lagging...  bug report"
      ]
     },
     "execution_count": 43,
     "metadata": {},
     "output_type": "execute_result"
    }
   ],
   "source": [
    "frame = pd.read_excel(\"./data/dataset_NLU.xlsx\")\n",
    "df_reviews_content = pd.DataFrame(frame, columns=[\"preprocessing\",\"label\"])\n",
    "df_reviews_content.head()"
   ]
  },
  {
   "cell_type": "code",
   "execution_count": null,
   "metadata": {},
   "outputs": [],
   "source": []
  }
 ],
 "metadata": {
  "kernelspec": {
   "display_name": "Python 3 (ipykernel)",
   "language": "python",
   "name": "python3"
  },
  "language_info": {
   "codemirror_mode": {
    "name": "ipython",
    "version": 3
   },
   "file_extension": ".py",
   "mimetype": "text/x-python",
   "name": "python",
   "nbconvert_exporter": "python",
   "pygments_lexer": "ipython3",
   "version": "3.11.5"
  }
 },
 "nbformat": 4,
 "nbformat_minor": 4
}
