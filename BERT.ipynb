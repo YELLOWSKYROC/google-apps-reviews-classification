{
 "cells": [
  {
   "cell_type": "code",
   "execution_count": 1,
   "metadata": {
    "colab": {
     "base_uri": "https://localhost:8080/"
    },
    "id": "ED2q_tm77MIf",
    "outputId": "67bf5161-f3ae-42d6-a2ba-c1251508a507"
   },
   "outputs": [
    {
     "name": "stdout",
     "output_type": "stream",
     "text": [
      "Cloning into 'Google-Play-App-Reviews-Datasets'...\n",
      "remote: Enumerating objects: 13, done.\u001b[K\n",
      "remote: Counting objects: 100% (13/13), done.\u001b[K\n",
      "remote: Compressing objects: 100% (12/12), done.\u001b[K\n",
      "remote: Total 13 (delta 2), reused 0 (delta 0), pack-reused 0\u001b[K\n",
      "Unpacking objects: 100% (13/13), 3.18 MiB | 13.19 MiB/s, done.\n"
     ]
    }
   ],
   "source": [
    "# datasets from my GitHub\n",
    "!git clone https://github.com/William-HTP/Google-Play-App-Reviews-Datasets.git"
   ]
  },
  {
   "cell_type": "code",
   "execution_count": 2,
   "metadata": {
    "colab": {
     "base_uri": "https://localhost:8080/"
    },
    "id": "dq0TGc4p7iLX",
    "outputId": "893279dd-de8e-42af-9bee-ff5c5df46099"
   },
   "outputs": [
    {
     "name": "stdout",
     "output_type": "stream",
     "text": [
      "Looking in indexes: https://pypi.org/simple, https://us-python.pkg.dev/colab-wheels/public/simple/\n",
      "Collecting transformers\n",
      "  Downloading transformers-4.27.2-py3-none-any.whl (6.8 MB)\n",
      "\u001b[2K     \u001b[90m━━━━━━━━━━━━━━━━━━━━━━━━━━━━━━━━━━━━━━━━\u001b[0m \u001b[32m6.8/6.8 MB\u001b[0m \u001b[31m24.8 MB/s\u001b[0m eta \u001b[36m0:00:00\u001b[0m\n",
      "\u001b[?25hRequirement already satisfied: numpy>=1.17 in /usr/local/lib/python3.9/dist-packages (from transformers) (1.22.4)\n",
      "Collecting huggingface-hub<1.0,>=0.11.0\n",
      "  Downloading huggingface_hub-0.13.3-py3-none-any.whl (199 kB)\n",
      "\u001b[2K     \u001b[90m━━━━━━━━━━━━━━━━━━━━━━━━━━━━━━━━━━━━━━\u001b[0m \u001b[32m199.8/199.8 KB\u001b[0m \u001b[31m15.6 MB/s\u001b[0m eta \u001b[36m0:00:00\u001b[0m\n",
      "\u001b[?25hRequirement already satisfied: requests in /usr/local/lib/python3.9/dist-packages (from transformers) (2.27.1)\n",
      "Collecting tokenizers!=0.11.3,<0.14,>=0.11.1\n",
      "  Downloading tokenizers-0.13.2-cp39-cp39-manylinux_2_17_x86_64.manylinux2014_x86_64.whl (7.6 MB)\n",
      "\u001b[2K     \u001b[90m━━━━━━━━━━━━━━━━━━━━━━━━━━━━━━━━━━━━━━━━\u001b[0m \u001b[32m7.6/7.6 MB\u001b[0m \u001b[31m55.6 MB/s\u001b[0m eta \u001b[36m0:00:00\u001b[0m\n",
      "\u001b[?25hRequirement already satisfied: packaging>=20.0 in /usr/local/lib/python3.9/dist-packages (from transformers) (23.0)\n",
      "Requirement already satisfied: pyyaml>=5.1 in /usr/local/lib/python3.9/dist-packages (from transformers) (6.0)\n",
      "Requirement already satisfied: filelock in /usr/local/lib/python3.9/dist-packages (from transformers) (3.10.0)\n",
      "Requirement already satisfied: tqdm>=4.27 in /usr/local/lib/python3.9/dist-packages (from transformers) (4.65.0)\n",
      "Requirement already satisfied: regex!=2019.12.17 in /usr/local/lib/python3.9/dist-packages (from transformers) (2022.10.31)\n",
      "Requirement already satisfied: typing-extensions>=3.7.4.3 in /usr/local/lib/python3.9/dist-packages (from huggingface-hub<1.0,>=0.11.0->transformers) (4.5.0)\n",
      "Requirement already satisfied: urllib3<1.27,>=1.21.1 in /usr/local/lib/python3.9/dist-packages (from requests->transformers) (1.26.15)\n",
      "Requirement already satisfied: charset-normalizer~=2.0.0 in /usr/local/lib/python3.9/dist-packages (from requests->transformers) (2.0.12)\n",
      "Requirement already satisfied: certifi>=2017.4.17 in /usr/local/lib/python3.9/dist-packages (from requests->transformers) (2022.12.7)\n",
      "Requirement already satisfied: idna<4,>=2.5 in /usr/local/lib/python3.9/dist-packages (from requests->transformers) (3.4)\n",
      "Installing collected packages: tokenizers, huggingface-hub, transformers\n",
      "Successfully installed huggingface-hub-0.13.3 tokenizers-0.13.2 transformers-4.27.2\n"
     ]
    }
   ],
   "source": [
    "!pip install transformers"
   ]
  },
  {
   "cell_type": "code",
   "execution_count": 3,
   "metadata": {
    "id": "sONZTJ0S7ksf"
   },
   "outputs": [],
   "source": [
    "import torch\n",
    "import torch.nn as nn\n",
    "import numpy as np\n",
    "import pandas as pd\n",
    "import random\n",
    "import math\n",
    "import time\n",
    "import datetime\n",
    "\n",
    "from matplotlib import pyplot as plt \n",
    "from torch.utils.data import TensorDataset, DataLoader, RandomSampler, SequentialSampler\n",
    "from transformers import BertForSequenceClassification, BertTokenizer, AdamW, get_linear_schedule_with_warmup\n",
    "from sklearn.model_selection import train_test_split \n",
    "from sklearn.metrics import accuracy_score, classification_report, confusion_matrix, precision_recall_fscore_support\n",
    "from sklearn.metrics import ConfusionMatrixDisplay, confusion_matrix, classification_report"
   ]
  },
  {
   "cell_type": "code",
   "execution_count": 4,
   "metadata": {
    "colab": {
     "base_uri": "https://localhost:8080/"
    },
    "id": "7FwYADnktWaE",
    "outputId": "d42bfc79-a3fb-436e-d1c8-6b871400b11d"
   },
   "outputs": [
    {
     "name": "stdout",
     "output_type": "stream",
     "text": [
      "There are 1 GPU(s) available.\n",
      "We will use the GPU: Tesla T4\n"
     ]
    }
   ],
   "source": [
    "# tell pytorch to use the gpu if available\n",
    "if torch.cuda.is_available():    \n",
    "      \n",
    "    DEVICE = torch.device(\"cuda\")\n",
    "\n",
    "    print('There are %d GPU(s) available.' % torch.cuda.device_count())\n",
    "\n",
    "    print('We will use the GPU:', torch.cuda.get_device_name(0))\n",
    "\n",
    "# If not...\n",
    "else:\n",
    "    print('No GPU available, using the CPU instead.')\n",
    "    DEVICE = torch.device(\"cpu\")"
   ]
  },
  {
   "cell_type": "code",
   "execution_count": 115,
   "metadata": {
    "colab": {
     "base_uri": "https://localhost:8080/",
     "height": 919
    },
    "id": "k4ifuB5M7qmq",
    "outputId": "17b8782d-6220-4b26-f09d-7cd7f3df8dcd"
   },
   "outputs": [
    {
     "data": {
      "text/html": [
       "\n",
       "  <div id=\"df-71fd17fd-764e-4e11-982b-b4694b401310\">\n",
       "    <div class=\"colab-df-container\">\n",
       "      <div>\n",
       "<style scoped>\n",
       "    .dataframe tbody tr th:only-of-type {\n",
       "        vertical-align: middle;\n",
       "    }\n",
       "\n",
       "    .dataframe tbody tr th {\n",
       "        vertical-align: top;\n",
       "    }\n",
       "\n",
       "    .dataframe thead th {\n",
       "        text-align: right;\n",
       "    }\n",
       "</style>\n",
       "<table border=\"1\" class=\"dataframe\">\n",
       "  <thead>\n",
       "    <tr style=\"text-align: right;\">\n",
       "      <th></th>\n",
       "      <th>ID</th>\n",
       "      <th>review</th>\n",
       "      <th>label</th>\n",
       "      <th>new_label</th>\n",
       "      <th>remove_all_stopwords</th>\n",
       "      <th>remove_some_stopwords</th>\n",
       "      <th>stemming</th>\n",
       "      <th>lemmatization</th>\n",
       "    </tr>\n",
       "  </thead>\n",
       "  <tbody>\n",
       "    <tr>\n",
       "      <th>0</th>\n",
       "      <td>1</td>\n",
       "      <td>Not able to add freinds. It show something went wrong.. Recommend not to install it</td>\n",
       "      <td>bug report</td>\n",
       "      <td>0</td>\n",
       "      <td>able add freinds show something went wrong recommend install</td>\n",
       "      <td>not able add freinds show something went wrong recommend not install</td>\n",
       "      <td>not abl to add freind it show someth went wrong recommend not to instal it</td>\n",
       "      <td>not able to add freinds it show something went wrong recommend not to install it</td>\n",
       "    </tr>\n",
       "    <tr>\n",
       "      <th>1</th>\n",
       "      <td>2</td>\n",
       "      <td>Calls keep dropping for no reason and is super annoying</td>\n",
       "      <td>bug report</td>\n",
       "      <td>0</td>\n",
       "      <td>calls keep dropping reason super annoying</td>\n",
       "      <td>calls keep dropping no reason super annoying</td>\n",
       "      <td>call keep drop for no reason and is super annoy</td>\n",
       "      <td>call keep dropping for no reason and is super annoying</td>\n",
       "    </tr>\n",
       "    <tr>\n",
       "      <th>2</th>\n",
       "      <td>3</td>\n",
       "      <td>Can't access to my account solve this issue immediately</td>\n",
       "      <td>bug report</td>\n",
       "      <td>0</td>\n",
       "      <td>cant access account solve issue immediately</td>\n",
       "      <td>cant access account solve issue immediately</td>\n",
       "      <td>cant access to my account solv thi issu immedi</td>\n",
       "      <td>cant access to my account solve this issue immediately</td>\n",
       "    </tr>\n",
       "    <tr>\n",
       "      <th>3</th>\n",
       "      <td>4</td>\n",
       "      <td>I don't know what's wrong with my own WhatsApp. Its not working. And if I want to sign up, it will just be bringing try again later. You guys should see to it.</td>\n",
       "      <td>bug report</td>\n",
       "      <td>0</td>\n",
       "      <td>dont know whats wrong whatsapp working want sign bringing try later guys see</td>\n",
       "      <td>dont know whats wrong whatsapp not working want sign up will bringing try again later guys should see</td>\n",
       "      <td>i dont know what wrong with my own whatsapp it not work and if i want to sign up it will just be bring tri again later you guy should see to it</td>\n",
       "      <td>i dont know whats wrong with my own whatsapp it not working and if i want to sign up it will just be bringing try again later you guy should see to it</td>\n",
       "    </tr>\n",
       "    <tr>\n",
       "      <th>4</th>\n",
       "      <td>5</td>\n",
       "      <td>Cannot record audio while taking video</td>\n",
       "      <td>bug report</td>\n",
       "      <td>0</td>\n",
       "      <td>cannot record audio taking video</td>\n",
       "      <td>cannot record audio taking video</td>\n",
       "      <td>cannot record audio while take video</td>\n",
       "      <td>cannot record audio while taking video</td>\n",
       "    </tr>\n",
       "    <tr>\n",
       "      <th>...</th>\n",
       "      <td>...</td>\n",
       "      <td>...</td>\n",
       "      <td>...</td>\n",
       "      <td>...</td>\n",
       "      <td>...</td>\n",
       "      <td>...</td>\n",
       "      <td>...</td>\n",
       "      <td>...</td>\n",
       "    </tr>\n",
       "    <tr>\n",
       "      <th>7995</th>\n",
       "      <td>7996</td>\n",
       "      <td>good app, l will give you 5 star!</td>\n",
       "      <td>rating</td>\n",
       "      <td>2</td>\n",
       "      <td>good app l give 5 star</td>\n",
       "      <td>good app l will give 5 star</td>\n",
       "      <td>good app l will give you 5 star</td>\n",
       "      <td>good app l will give you 5 star</td>\n",
       "    </tr>\n",
       "    <tr>\n",
       "      <th>7996</th>\n",
       "      <td>7997</td>\n",
       "      <td>Never had a problem with it.</td>\n",
       "      <td>rating</td>\n",
       "      <td>2</td>\n",
       "      <td>never problem</td>\n",
       "      <td>never problem</td>\n",
       "      <td>never had a problem with it</td>\n",
       "      <td>never had a problem with it</td>\n",
       "    </tr>\n",
       "    <tr>\n",
       "      <th>7997</th>\n",
       "      <td>7998</td>\n",
       "      <td>It  s great and I recommend it all the time to others.</td>\n",
       "      <td>rating</td>\n",
       "      <td>2</td>\n",
       "      <td>great recommend time others</td>\n",
       "      <td>great recommend all time others</td>\n",
       "      <td>it s great and i recommend it all the time to other</td>\n",
       "      <td>it s great and i recommend it all the time to others</td>\n",
       "    </tr>\n",
       "    <tr>\n",
       "      <th>7998</th>\n",
       "      <td>7999</td>\n",
       "      <td>Everyone can use this app ,</td>\n",
       "      <td>rating</td>\n",
       "      <td>2</td>\n",
       "      <td>everyone use app</td>\n",
       "      <td>everyone can use app</td>\n",
       "      <td>everyon can use thi app</td>\n",
       "      <td>everyone can use this app</td>\n",
       "    </tr>\n",
       "    <tr>\n",
       "      <th>7999</th>\n",
       "      <td>8000</td>\n",
       "      <td>I had to Google it to discover that you have to tap the camera button, then the little image icon.</td>\n",
       "      <td>user experience</td>\n",
       "      <td>3</td>\n",
       "      <td>google discover tap camera button little image icon</td>\n",
       "      <td>google discover have tap camera button little image icon</td>\n",
       "      <td>i had to googl it to discov that you have to tap the camera button then the littl imag icon</td>\n",
       "      <td>i had to google it to discover that you have to tap the camera button then the little image icon</td>\n",
       "    </tr>\n",
       "  </tbody>\n",
       "</table>\n",
       "<p>8000 rows × 8 columns</p>\n",
       "</div>\n",
       "      <button class=\"colab-df-convert\" onclick=\"convertToInteractive('df-71fd17fd-764e-4e11-982b-b4694b401310')\"\n",
       "              title=\"Convert this dataframe to an interactive table.\"\n",
       "              style=\"display:none;\">\n",
       "        \n",
       "  <svg xmlns=\"http://www.w3.org/2000/svg\" height=\"24px\"viewBox=\"0 0 24 24\"\n",
       "       width=\"24px\">\n",
       "    <path d=\"M0 0h24v24H0V0z\" fill=\"none\"/>\n",
       "    <path d=\"M18.56 5.44l.94 2.06.94-2.06 2.06-.94-2.06-.94-.94-2.06-.94 2.06-2.06.94zm-11 1L8.5 8.5l.94-2.06 2.06-.94-2.06-.94L8.5 2.5l-.94 2.06-2.06.94zm10 10l.94 2.06.94-2.06 2.06-.94-2.06-.94-.94-2.06-.94 2.06-2.06.94z\"/><path d=\"M17.41 7.96l-1.37-1.37c-.4-.4-.92-.59-1.43-.59-.52 0-1.04.2-1.43.59L10.3 9.45l-7.72 7.72c-.78.78-.78 2.05 0 2.83L4 21.41c.39.39.9.59 1.41.59.51 0 1.02-.2 1.41-.59l7.78-7.78 2.81-2.81c.8-.78.8-2.07 0-2.86zM5.41 20L4 18.59l7.72-7.72 1.47 1.35L5.41 20z\"/>\n",
       "  </svg>\n",
       "      </button>\n",
       "      \n",
       "  <style>\n",
       "    .colab-df-container {\n",
       "      display:flex;\n",
       "      flex-wrap:wrap;\n",
       "      gap: 12px;\n",
       "    }\n",
       "\n",
       "    .colab-df-convert {\n",
       "      background-color: #E8F0FE;\n",
       "      border: none;\n",
       "      border-radius: 50%;\n",
       "      cursor: pointer;\n",
       "      display: none;\n",
       "      fill: #1967D2;\n",
       "      height: 32px;\n",
       "      padding: 0 0 0 0;\n",
       "      width: 32px;\n",
       "    }\n",
       "\n",
       "    .colab-df-convert:hover {\n",
       "      background-color: #E2EBFA;\n",
       "      box-shadow: 0px 1px 2px rgba(60, 64, 67, 0.3), 0px 1px 3px 1px rgba(60, 64, 67, 0.15);\n",
       "      fill: #174EA6;\n",
       "    }\n",
       "\n",
       "    [theme=dark] .colab-df-convert {\n",
       "      background-color: #3B4455;\n",
       "      fill: #D2E3FC;\n",
       "    }\n",
       "\n",
       "    [theme=dark] .colab-df-convert:hover {\n",
       "      background-color: #434B5C;\n",
       "      box-shadow: 0px 1px 3px 1px rgba(0, 0, 0, 0.15);\n",
       "      filter: drop-shadow(0px 1px 2px rgba(0, 0, 0, 0.3));\n",
       "      fill: #FFFFFF;\n",
       "    }\n",
       "  </style>\n",
       "\n",
       "      <script>\n",
       "        const buttonEl =\n",
       "          document.querySelector('#df-71fd17fd-764e-4e11-982b-b4694b401310 button.colab-df-convert');\n",
       "        buttonEl.style.display =\n",
       "          google.colab.kernel.accessAllowed ? 'block' : 'none';\n",
       "\n",
       "        async function convertToInteractive(key) {\n",
       "          const element = document.querySelector('#df-71fd17fd-764e-4e11-982b-b4694b401310');\n",
       "          const dataTable =\n",
       "            await google.colab.kernel.invokeFunction('convertToInteractive',\n",
       "                                                     [key], {});\n",
       "          if (!dataTable) return;\n",
       "\n",
       "          const docLinkHtml = 'Like what you see? Visit the ' +\n",
       "            '<a target=\"_blank\" href=https://colab.research.google.com/notebooks/data_table.ipynb>data table notebook</a>'\n",
       "            + ' to learn more about interactive tables.';\n",
       "          element.innerHTML = '';\n",
       "          dataTable['output_type'] = 'display_data';\n",
       "          await google.colab.output.renderOutput(dataTable, element);\n",
       "          const docLink = document.createElement('div');\n",
       "          docLink.innerHTML = docLinkHtml;\n",
       "          element.appendChild(docLink);\n",
       "        }\n",
       "      </script>\n",
       "    </div>\n",
       "  </div>\n",
       "  "
      ],
      "text/plain": [
       "        ID  \\\n",
       "0        1   \n",
       "1        2   \n",
       "2        3   \n",
       "3        4   \n",
       "4        5   \n",
       "...    ...   \n",
       "7995  7996   \n",
       "7996  7997   \n",
       "7997  7998   \n",
       "7998  7999   \n",
       "7999  8000   \n",
       "\n",
       "                                                                                                                                                               review  \\\n",
       "0                                                                                 Not able to add freinds. It show something went wrong.. Recommend not to install it   \n",
       "1                                                                                                             Calls keep dropping for no reason and is super annoying   \n",
       "2                                                                                                             Can't access to my account solve this issue immediately   \n",
       "3     I don't know what's wrong with my own WhatsApp. Its not working. And if I want to sign up, it will just be bringing try again later. You guys should see to it.   \n",
       "4                                                                                                                              Cannot record audio while taking video   \n",
       "...                                                                                                                                                               ...   \n",
       "7995                                                                                                                                good app, l will give you 5 star!   \n",
       "7996                                                                                                                                     Never had a problem with it.   \n",
       "7997                                                                                                           It  s great and I recommend it all the time to others.   \n",
       "7998                                                                                                                                      Everyone can use this app ,   \n",
       "7999                                                               I had to Google it to discover that you have to tap the camera button, then the little image icon.   \n",
       "\n",
       "                label  new_label  \\\n",
       "0          bug report          0   \n",
       "1          bug report          0   \n",
       "2          bug report          0   \n",
       "3          bug report          0   \n",
       "4          bug report          0   \n",
       "...               ...        ...   \n",
       "7995           rating          2   \n",
       "7996           rating          2   \n",
       "7997           rating          2   \n",
       "7998           rating          2   \n",
       "7999  user experience          3   \n",
       "\n",
       "                                                              remove_all_stopwords  \\\n",
       "0                     able add freinds show something went wrong recommend install   \n",
       "1                                        calls keep dropping reason super annoying   \n",
       "2                                      cant access account solve issue immediately   \n",
       "3     dont know whats wrong whatsapp working want sign bringing try later guys see   \n",
       "4                                                 cannot record audio taking video   \n",
       "...                                                                            ...   \n",
       "7995                                                        good app l give 5 star   \n",
       "7996                                                                 never problem   \n",
       "7997                                                   great recommend time others   \n",
       "7998                                                              everyone use app   \n",
       "7999                           google discover tap camera button little image icon   \n",
       "\n",
       "                                                                                      remove_some_stopwords  \\\n",
       "0                                      not able add freinds show something went wrong recommend not install   \n",
       "1                                                              calls keep dropping no reason super annoying   \n",
       "2                                                               cant access account solve issue immediately   \n",
       "3     dont know whats wrong whatsapp not working want sign up will bringing try again later guys should see   \n",
       "4                                                                          cannot record audio taking video   \n",
       "...                                                                                                     ...   \n",
       "7995                                                                            good app l will give 5 star   \n",
       "7996                                                                                          never problem   \n",
       "7997                                                                        great recommend all time others   \n",
       "7998                                                                                   everyone can use app   \n",
       "7999                                               google discover have tap camera button little image icon   \n",
       "\n",
       "                                                                                                                                             stemming  \\\n",
       "0                                                                          not abl to add freind it show someth went wrong recommend not to instal it   \n",
       "1                                                                                                     call keep drop for no reason and is super annoy   \n",
       "2                                                                                                      cant access to my account solv thi issu immedi   \n",
       "3     i dont know what wrong with my own whatsapp it not work and if i want to sign up it will just be bring tri again later you guy should see to it   \n",
       "4                                                                                                                cannot record audio while take video   \n",
       "...                                                                                                                                               ...   \n",
       "7995                                                                                                                  good app l will give you 5 star   \n",
       "7996                                                                                                                      never had a problem with it   \n",
       "7997                                                                                              it s great and i recommend it all the time to other   \n",
       "7998                                                                                                                          everyon can use thi app   \n",
       "7999                                                      i had to googl it to discov that you have to tap the camera button then the littl imag icon   \n",
       "\n",
       "                                                                                                                                               lemmatization  \n",
       "0                                                                           not able to add freinds it show something went wrong recommend not to install it  \n",
       "1                                                                                                     call keep dropping for no reason and is super annoying  \n",
       "2                                                                                                     cant access to my account solve this issue immediately  \n",
       "3     i dont know whats wrong with my own whatsapp it not working and if i want to sign up it will just be bringing try again later you guy should see to it  \n",
       "4                                                                                                                     cannot record audio while taking video  \n",
       "...                                                                                                                                                      ...  \n",
       "7995                                                                                                                         good app l will give you 5 star  \n",
       "7996                                                                                                                             never had a problem with it  \n",
       "7997                                                                                                    it s great and i recommend it all the time to others  \n",
       "7998                                                                                                                               everyone can use this app  \n",
       "7999                                                        i had to google it to discover that you have to tap the camera button then the little image icon  \n",
       "\n",
       "[8000 rows x 8 columns]"
      ]
     },
     "execution_count": 115,
     "metadata": {},
     "output_type": "execute_result"
    }
   ],
   "source": [
    "# dataframe\n",
    "df = pd.read_excel('/content/Google-Play-App-Reviews-Datasets/dataset_balanced_8000.xlsx')\n",
    "pd.set_option('display.max_colwidth', None)\n",
    "df"
   ]
  },
  {
   "cell_type": "code",
   "execution_count": 116,
   "metadata": {
    "colab": {
     "base_uri": "https://localhost:8080/"
    },
    "id": "8P91JAsovE6r",
    "outputId": "be7ef4ea-d32b-49f2-be50-3645056fd2f3"
   },
   "outputs": [
    {
     "name": "stdout",
     "output_type": "stream",
     "text": [
      "<class 'pandas.core.frame.DataFrame'>\n",
      "RangeIndex: 8000 entries, 0 to 7999\n",
      "Data columns (total 8 columns):\n",
      " #   Column                 Non-Null Count  Dtype \n",
      "---  ------                 --------------  ----- \n",
      " 0   ID                     8000 non-null   int64 \n",
      " 1   review                 8000 non-null   object\n",
      " 2   label                  8000 non-null   object\n",
      " 3   new_label              8000 non-null   int64 \n",
      " 4   remove_all_stopwords   8000 non-null   object\n",
      " 5   remove_some_stopwords  8000 non-null   object\n",
      " 6   stemming               8000 non-null   object\n",
      " 7   lemmatization          8000 non-null   object\n",
      "dtypes: int64(2), object(6)\n",
      "memory usage: 500.1+ KB\n"
     ]
    }
   ],
   "source": [
    "df.info()"
   ]
  },
  {
   "cell_type": "code",
   "execution_count": 117,
   "metadata": {
    "colab": {
     "base_uri": "https://localhost:8080/"
    },
    "id": "caP4tJz3vFD2",
    "outputId": "c501b239-e4fd-4f77-9cea-28b8c12e52f9"
   },
   "outputs": [
    {
     "data": {
      "text/plain": [
       "bug report         2000\n",
       "feature request    2000\n",
       "rating             2000\n",
       "user experience    2000\n",
       "Name: label, dtype: int64"
      ]
     },
     "execution_count": 117,
     "metadata": {},
     "output_type": "execute_result"
    }
   ],
   "source": [
    "df['label'].value_counts()"
   ]
  },
  {
   "cell_type": "code",
   "execution_count": 118,
   "metadata": {
    "colab": {
     "base_uri": "https://localhost:8080/",
     "height": 467
    },
    "id": "D8L9SEQG7qp3",
    "outputId": "90b304f4-175d-4273-f774-66ed766d8f29"
   },
   "outputs": [
    {
     "data": {
      "text/html": [
       "\n",
       "  <div id=\"df-5c2c7e1c-8428-401d-a148-e65e9de3d2a9\">\n",
       "    <div class=\"colab-df-container\">\n",
       "      <div>\n",
       "<style scoped>\n",
       "    .dataframe tbody tr th:only-of-type {\n",
       "        vertical-align: middle;\n",
       "    }\n",
       "\n",
       "    .dataframe tbody tr th {\n",
       "        vertical-align: top;\n",
       "    }\n",
       "\n",
       "    .dataframe thead th {\n",
       "        text-align: right;\n",
       "    }\n",
       "</style>\n",
       "<table border=\"1\" class=\"dataframe\">\n",
       "  <thead>\n",
       "    <tr style=\"text-align: right;\">\n",
       "      <th></th>\n",
       "      <th>review</th>\n",
       "      <th>new_label</th>\n",
       "    </tr>\n",
       "  </thead>\n",
       "  <tbody>\n",
       "    <tr>\n",
       "      <th>0</th>\n",
       "      <td>Not able to add freinds. It show something went wrong.. Recommend not to install it</td>\n",
       "      <td>0</td>\n",
       "    </tr>\n",
       "    <tr>\n",
       "      <th>1</th>\n",
       "      <td>Calls keep dropping for no reason and is super annoying</td>\n",
       "      <td>0</td>\n",
       "    </tr>\n",
       "    <tr>\n",
       "      <th>2</th>\n",
       "      <td>Can't access to my account solve this issue immediately</td>\n",
       "      <td>0</td>\n",
       "    </tr>\n",
       "    <tr>\n",
       "      <th>3</th>\n",
       "      <td>I don't know what's wrong with my own WhatsApp. Its not working. And if I want to sign up, it will just be bringing try again later. You guys should see to it.</td>\n",
       "      <td>0</td>\n",
       "    </tr>\n",
       "    <tr>\n",
       "      <th>4</th>\n",
       "      <td>Cannot record audio while taking video</td>\n",
       "      <td>0</td>\n",
       "    </tr>\n",
       "    <tr>\n",
       "      <th>...</th>\n",
       "      <td>...</td>\n",
       "      <td>...</td>\n",
       "    </tr>\n",
       "    <tr>\n",
       "      <th>7995</th>\n",
       "      <td>good app, l will give you 5 star!</td>\n",
       "      <td>2</td>\n",
       "    </tr>\n",
       "    <tr>\n",
       "      <th>7996</th>\n",
       "      <td>Never had a problem with it.</td>\n",
       "      <td>2</td>\n",
       "    </tr>\n",
       "    <tr>\n",
       "      <th>7997</th>\n",
       "      <td>It  s great and I recommend it all the time to others.</td>\n",
       "      <td>2</td>\n",
       "    </tr>\n",
       "    <tr>\n",
       "      <th>7998</th>\n",
       "      <td>Everyone can use this app ,</td>\n",
       "      <td>2</td>\n",
       "    </tr>\n",
       "    <tr>\n",
       "      <th>7999</th>\n",
       "      <td>I had to Google it to discover that you have to tap the camera button, then the little image icon.</td>\n",
       "      <td>3</td>\n",
       "    </tr>\n",
       "  </tbody>\n",
       "</table>\n",
       "<p>8000 rows × 2 columns</p>\n",
       "</div>\n",
       "      <button class=\"colab-df-convert\" onclick=\"convertToInteractive('df-5c2c7e1c-8428-401d-a148-e65e9de3d2a9')\"\n",
       "              title=\"Convert this dataframe to an interactive table.\"\n",
       "              style=\"display:none;\">\n",
       "        \n",
       "  <svg xmlns=\"http://www.w3.org/2000/svg\" height=\"24px\"viewBox=\"0 0 24 24\"\n",
       "       width=\"24px\">\n",
       "    <path d=\"M0 0h24v24H0V0z\" fill=\"none\"/>\n",
       "    <path d=\"M18.56 5.44l.94 2.06.94-2.06 2.06-.94-2.06-.94-.94-2.06-.94 2.06-2.06.94zm-11 1L8.5 8.5l.94-2.06 2.06-.94-2.06-.94L8.5 2.5l-.94 2.06-2.06.94zm10 10l.94 2.06.94-2.06 2.06-.94-2.06-.94-.94-2.06-.94 2.06-2.06.94z\"/><path d=\"M17.41 7.96l-1.37-1.37c-.4-.4-.92-.59-1.43-.59-.52 0-1.04.2-1.43.59L10.3 9.45l-7.72 7.72c-.78.78-.78 2.05 0 2.83L4 21.41c.39.39.9.59 1.41.59.51 0 1.02-.2 1.41-.59l7.78-7.78 2.81-2.81c.8-.78.8-2.07 0-2.86zM5.41 20L4 18.59l7.72-7.72 1.47 1.35L5.41 20z\"/>\n",
       "  </svg>\n",
       "      </button>\n",
       "      \n",
       "  <style>\n",
       "    .colab-df-container {\n",
       "      display:flex;\n",
       "      flex-wrap:wrap;\n",
       "      gap: 12px;\n",
       "    }\n",
       "\n",
       "    .colab-df-convert {\n",
       "      background-color: #E8F0FE;\n",
       "      border: none;\n",
       "      border-radius: 50%;\n",
       "      cursor: pointer;\n",
       "      display: none;\n",
       "      fill: #1967D2;\n",
       "      height: 32px;\n",
       "      padding: 0 0 0 0;\n",
       "      width: 32px;\n",
       "    }\n",
       "\n",
       "    .colab-df-convert:hover {\n",
       "      background-color: #E2EBFA;\n",
       "      box-shadow: 0px 1px 2px rgba(60, 64, 67, 0.3), 0px 1px 3px 1px rgba(60, 64, 67, 0.15);\n",
       "      fill: #174EA6;\n",
       "    }\n",
       "\n",
       "    [theme=dark] .colab-df-convert {\n",
       "      background-color: #3B4455;\n",
       "      fill: #D2E3FC;\n",
       "    }\n",
       "\n",
       "    [theme=dark] .colab-df-convert:hover {\n",
       "      background-color: #434B5C;\n",
       "      box-shadow: 0px 1px 3px 1px rgba(0, 0, 0, 0.15);\n",
       "      filter: drop-shadow(0px 1px 2px rgba(0, 0, 0, 0.3));\n",
       "      fill: #FFFFFF;\n",
       "    }\n",
       "  </style>\n",
       "\n",
       "      <script>\n",
       "        const buttonEl =\n",
       "          document.querySelector('#df-5c2c7e1c-8428-401d-a148-e65e9de3d2a9 button.colab-df-convert');\n",
       "        buttonEl.style.display =\n",
       "          google.colab.kernel.accessAllowed ? 'block' : 'none';\n",
       "\n",
       "        async function convertToInteractive(key) {\n",
       "          const element = document.querySelector('#df-5c2c7e1c-8428-401d-a148-e65e9de3d2a9');\n",
       "          const dataTable =\n",
       "            await google.colab.kernel.invokeFunction('convertToInteractive',\n",
       "                                                     [key], {});\n",
       "          if (!dataTable) return;\n",
       "\n",
       "          const docLinkHtml = 'Like what you see? Visit the ' +\n",
       "            '<a target=\"_blank\" href=https://colab.research.google.com/notebooks/data_table.ipynb>data table notebook</a>'\n",
       "            + ' to learn more about interactive tables.';\n",
       "          element.innerHTML = '';\n",
       "          dataTable['output_type'] = 'display_data';\n",
       "          await google.colab.output.renderOutput(dataTable, element);\n",
       "          const docLink = document.createElement('div');\n",
       "          docLink.innerHTML = docLinkHtml;\n",
       "          element.appendChild(docLink);\n",
       "        }\n",
       "      </script>\n",
       "    </div>\n",
       "  </div>\n",
       "  "
      ],
      "text/plain": [
       "                                                                                                                                                               review  \\\n",
       "0                                                                                 Not able to add freinds. It show something went wrong.. Recommend not to install it   \n",
       "1                                                                                                             Calls keep dropping for no reason and is super annoying   \n",
       "2                                                                                                             Can't access to my account solve this issue immediately   \n",
       "3     I don't know what's wrong with my own WhatsApp. Its not working. And if I want to sign up, it will just be bringing try again later. You guys should see to it.   \n",
       "4                                                                                                                              Cannot record audio while taking video   \n",
       "...                                                                                                                                                               ...   \n",
       "7995                                                                                                                                good app, l will give you 5 star!   \n",
       "7996                                                                                                                                     Never had a problem with it.   \n",
       "7997                                                                                                           It  s great and I recommend it all the time to others.   \n",
       "7998                                                                                                                                      Everyone can use this app ,   \n",
       "7999                                                               I had to Google it to discover that you have to tap the camera button, then the little image icon.   \n",
       "\n",
       "      new_label  \n",
       "0             0  \n",
       "1             0  \n",
       "2             0  \n",
       "3             0  \n",
       "4             0  \n",
       "...         ...  \n",
       "7995          2  \n",
       "7996          2  \n",
       "7997          2  \n",
       "7998          2  \n",
       "7999          3  \n",
       "\n",
       "[8000 rows x 2 columns]"
      ]
     },
     "execution_count": 118,
     "metadata": {},
     "output_type": "execute_result"
    }
   ],
   "source": [
    "df = pd.DataFrame(df, columns = [\"review\", \"new_label\"])\n",
    "df"
   ]
  },
  {
   "cell_type": "code",
   "execution_count": 119,
   "metadata": {
    "colab": {
     "base_uri": "https://localhost:8080/"
    },
    "id": "bnIak_Bh8XeQ",
    "outputId": "c215506e-9b99-422d-87cd-d6fbd963bfd1"
   },
   "outputs": [
    {
     "name": "stderr",
     "output_type": "stream",
     "text": [
      "Some weights of the model checkpoint at bert-base-uncased were not used when initializing BertForSequenceClassification: ['cls.predictions.transform.dense.bias', 'cls.predictions.decoder.weight', 'cls.predictions.bias', 'cls.seq_relationship.weight', 'cls.predictions.transform.LayerNorm.bias', 'cls.predictions.transform.dense.weight', 'cls.seq_relationship.bias', 'cls.predictions.transform.LayerNorm.weight']\n",
      "- This IS expected if you are initializing BertForSequenceClassification from the checkpoint of a model trained on another task or with another architecture (e.g. initializing a BertForSequenceClassification model from a BertForPreTraining model).\n",
      "- This IS NOT expected if you are initializing BertForSequenceClassification from the checkpoint of a model that you expect to be exactly identical (initializing a BertForSequenceClassification model from a BertForSequenceClassification model).\n",
      "Some weights of BertForSequenceClassification were not initialized from the model checkpoint at bert-base-uncased and are newly initialized: ['classifier.weight', 'classifier.bias']\n",
      "You should probably TRAIN this model on a down-stream task to be able to use it for predictions and inference.\n"
     ]
    },
    {
     "name": "stdout",
     "output_type": "stream",
     "text": [
      "Base models loaded\n"
     ]
    }
   ],
   "source": [
    "# Loading BERT base model\n",
    "bert_model = BertForSequenceClassification.from_pretrained(\"bert-base-uncased\", #Using BERT base model with an uncased vocab.\n",
    "                                                                num_labels = 4, #number of output labels - 0,1 (binary classification)\n",
    "                                                                output_attentions = False, #model doesnt return attention weights\n",
    "                                                                output_hidden_states = False #model doesnt return hidden states\n",
    "                                                            )\n",
    "#BERT tokenizer\n",
    "bert_tokenizer = BertTokenizer.from_pretrained(\"bert-base-uncased\", do_lower_case=True)\n",
    "\n",
    "# Tell pytorch to run this model on the GPU.\n",
    "bert_model.cuda()\n",
    "\n",
    "print('Base models loaded') "
   ]
  },
  {
   "cell_type": "code",
   "execution_count": 120,
   "metadata": {
    "id": "Egf127aHnO7_"
   },
   "outputs": [],
   "source": [
    "# Split data into training and test sets\n",
    "train_df, test_df = train_test_split(df, test_size = 0.2, random_state=42)\n",
    "\n",
    "# Split training data into training and validation sets\n",
    "test_df, valid_df = train_test_split(test_df, test_size = 0.5, random_state=42)"
   ]
  },
  {
   "cell_type": "code",
   "execution_count": 121,
   "metadata": {
    "colab": {
     "base_uri": "https://localhost:8080/"
    },
    "id": "0eu-JdHhv95T",
    "outputId": "60aea86f-f42c-4ea9-87ff-33c8f02320fc"
   },
   "outputs": [
    {
     "data": {
      "text/plain": [
       "3    1629\n",
       "2    1600\n",
       "0    1597\n",
       "1    1574\n",
       "Name: new_label, dtype: int64"
      ]
     },
     "execution_count": 121,
     "metadata": {},
     "output_type": "execute_result"
    }
   ],
   "source": [
    "train_df['new_label'].value_counts()"
   ]
  },
  {
   "cell_type": "code",
   "execution_count": 122,
   "metadata": {
    "colab": {
     "base_uri": "https://localhost:8080/"
    },
    "id": "7SYLT7Piv_Eb",
    "outputId": "1867699f-d7db-4461-e5ce-21be277336a2"
   },
   "outputs": [
    {
     "data": {
      "text/plain": [
       "0    220\n",
       "1    210\n",
       "3    189\n",
       "2    181\n",
       "Name: new_label, dtype: int64"
      ]
     },
     "execution_count": 122,
     "metadata": {},
     "output_type": "execute_result"
    }
   ],
   "source": [
    "valid_df['new_label'].value_counts()"
   ]
  },
  {
   "cell_type": "code",
   "execution_count": 123,
   "metadata": {
    "colab": {
     "base_uri": "https://localhost:8080/"
    },
    "id": "1aA8YH2Yv_LI",
    "outputId": "7f0be088-e591-4ee6-c981-da2a372b3295"
   },
   "outputs": [
    {
     "data": {
      "text/plain": [
       "2    219\n",
       "1    216\n",
       "0    183\n",
       "3    182\n",
       "Name: new_label, dtype: int64"
      ]
     },
     "execution_count": 123,
     "metadata": {},
     "output_type": "execute_result"
    }
   ],
   "source": [
    "test_df['new_label'].value_counts()"
   ]
  },
  {
   "cell_type": "code",
   "execution_count": 124,
   "metadata": {
    "id": "cIZeVO5L7quH"
   },
   "outputs": [],
   "source": [
    "# Below function performs tokenization process as required by bert and roberta models, for a given dataset\n",
    "def tokenization(dataset):\n",
    "    sentences = dataset[\"review\"].values\n",
    "    labels = dataset[\"new_label\"].values\n",
    "    max_length = 256\n",
    "\n",
    "    # Tokenize all of the sentences and map the tokens to thier word IDs.\n",
    "    bert_input_ids = []\n",
    "    bert_attention_masks = []\n",
    "\n",
    "    sentence_ids = []\n",
    "    counter = 0\n",
    "\n",
    "    # For every sentence...\n",
    "    for sent in sentences:\n",
    "        #encode_plus function will encode the sentences as required by model, including tokenization process and mapping token ids\n",
    "        bert_encoded_dict = bert_tokenizer.encode_plus(\n",
    "                            str(sent),        #sentence              \n",
    "                            add_special_tokens = True, # Add '[CLS]' and '[SEP]' tokens \n",
    "                            max_length = 256,     #Since we have seen from our analysis that majority of sentences have length less than 300.    \n",
    "                            pad_to_max_length = True,    # Pad sentences to 256 length  if the length of sentence is less than max_length\n",
    "                            return_attention_mask = True,   # Create attention mask\n",
    "                            truncation = True,  # truncate sentences to 256 length  if the length of sentence is greater than max_length\n",
    "                            return_tensors = 'pt',     # Return pytorch tensors.\n",
    "                        )\n",
    "\n",
    "      \n",
    "        # Add the encoded sentence to the list.    \n",
    "        bert_input_ids.append(bert_encoded_dict['input_ids'])\n",
    "        \n",
    "        # Add attention mask to the list \n",
    "        bert_attention_masks.append(bert_encoded_dict['attention_mask'])\n",
    "      \n",
    "        # collecting sentence_ids\n",
    "        sentence_ids.append(counter)\n",
    "        counter  = counter + 1\n",
    "      \n",
    "    # Convert the lists into tensors.\n",
    "    bert_input_ids = torch.cat(bert_input_ids, dim=0)\n",
    "    bert_attention_masks = torch.cat(bert_attention_masks, dim=0)\n",
    "\n",
    "    labels = torch.tensor(labels)\n",
    "    sentence_ids = torch.tensor(sentence_ids)\n",
    "\n",
    "    return bert_input_ids, bert_attention_masks, labels"
   ]
  },
  {
   "cell_type": "code",
   "execution_count": 55,
   "metadata": {
    "id": "HP-zEnQe9GQD"
   },
   "outputs": [],
   "source": [
    "def dataloader(input_ids, input_masks, labels):\n",
    "    BATCH_SIZE = 16\n",
    "\n",
    "    # Combine the training inputs into a TensorDataset.\n",
    "    bert_train_dataset = TensorDataset(input_ids, input_masks, labels) \n",
    "\n",
    "\n",
    "    # Create the DataLoaders for our training - Loads the data randomly in batches of size 32\n",
    "    dataloader = DataLoader(\n",
    "                bert_train_dataset,  # The training samples.\n",
    "                sampler = RandomSampler(bert_train_dataset), # Select batches randomly\n",
    "                batch_size = BATCH_SIZE # Trains with this batch size.\n",
    "            )\n",
    "\n",
    "    return dataloader"
   ]
  },
  {
   "cell_type": "code",
   "execution_count": 56,
   "metadata": {
    "id": "lA70atRyEVeQ"
   },
   "outputs": [],
   "source": [
    "# Function to calculate the accuracy of our predictions vs labels\n",
    "def flat_accuracy(preds, labels):\n",
    "    pred_flat = np.argmax(preds, axis=1).flatten()\n",
    "    labels_flat = labels.flatten()\n",
    "    return np.sum(pred_flat == labels_flat) / len(labels_flat)"
   ]
  },
  {
   "cell_type": "code",
   "execution_count": 57,
   "metadata": {
    "id": "wPq6vFgtEWl7"
   },
   "outputs": [],
   "source": [
    "def format_time(elapsed):\n",
    "    '''\n",
    "    Takes a time in seconds and returns a string hh:mm:ss\n",
    "    '''\n",
    "    # Round to the nearest second.\n",
    "    elapsed_rounded = int(round((elapsed)))\n",
    "    \n",
    "    # Format as hh:mm:ss\n",
    "    return str(datetime.timedelta(seconds=elapsed_rounded))"
   ]
  },
  {
   "cell_type": "code",
   "execution_count": 58,
   "metadata": {
    "id": "2cddAMfgEWsY"
   },
   "outputs": [],
   "source": [
    "def train(model, train_loader, valid_loader, device, epochs):\n",
    "\n",
    "    seed_val = 42\n",
    "    random.seed(seed_val)\n",
    "    np.random.seed(seed_val)\n",
    "    torch.manual_seed(seed_val)\n",
    "    torch.cuda.manual_seed_all(seed_val)\n",
    "    loss_values = []\n",
    "    acc_values = []\n",
    "    eval_loss_values = []\n",
    "    eval_acc_values = []\n",
    "\n",
    "    # optimizers - AdamW\n",
    "    # here, i have used default learning rate and epsilon values for both BERT and RoBERTa\n",
    "    bert_optimizer = AdamW(bert_model.parameters(),\n",
    "                    lr = 5e-5, \n",
    "                    eps = 1e-8 \n",
    "                    )\n",
    "\n",
    "\n",
    "    # Total number of training steps is [number of batches] x [number of epochs]\n",
    "    total_steps = len(train_loader) * epochs\n",
    "\n",
    "    # Create the learning rate scheduler.\n",
    "    bert_scheduler = get_linear_schedule_with_warmup(bert_optimizer, \n",
    "                                                num_warmup_steps = 0, \n",
    "                                                num_training_steps = total_steps)\n",
    "\n",
    "\n",
    "    best_acc = 0.0\n",
    "    criterion = nn.CrossEntropyLoss()\n",
    "\n",
    "    for epoch_i in range(epochs):\n",
    "        #Training \n",
    "        print(\"\")\n",
    "        print('======== Epoch {:} / {:} ========'.format(epoch_i + 1, epochs))\n",
    "        print('Training...')\n",
    "        # Measure how long the training epoch takes.\n",
    "        t0 = time.time()\n",
    "        # Reset the total loss for this epoch.\n",
    "        total_loss = 0\n",
    "        train_accuracy = 0\n",
    "        bert_model.train()\n",
    "        # For each batch of training data...\n",
    "        for step, batch in enumerate(train_loader):\n",
    "        #Report progress after every 40 epochs\n",
    "            if step % 50 == 0 and not step == 0: \n",
    "                # Calculate elapsed time in minutes.\n",
    "                elapsed = format_time(time.time() - t0)\n",
    "                \n",
    "                # print current training batch and elapsed time\n",
    "                print('  Batch {:>5,}  of  {:>5,}.    Elapsed: {:}.'.format(step, len(train_loader), elapsed))\n",
    "            \n",
    "            b_input_ids = batch[0].to(device)\n",
    "            b_input_mask = batch[1].to(device)\n",
    "            b_labels = batch[2].to(device)\n",
    "            \n",
    "            bert_model.zero_grad()        \n",
    "            \n",
    "            outputs = bert_model(b_input_ids, \n",
    "                        token_type_ids=None, \n",
    "                        attention_mask=b_input_mask, \n",
    "                        labels=b_labels)\n",
    "            # model returns a tuple, extract loss value from that tuple\n",
    "            loss = outputs[0]\n",
    "            total_loss += loss.item()\n",
    "            loss.backward()\n",
    "\n",
    "            logits = outputs[1]\n",
    "            logits = logits.detach().cpu().numpy()\n",
    "            label_ids = b_labels.to('cpu').numpy()\n",
    "\n",
    "            tmp_train_accuracy = flat_accuracy(logits, label_ids)\n",
    "            train_accuracy += tmp_train_accuracy\n",
    "\n",
    "            torch.nn.utils.clip_grad_norm_(bert_model.parameters(), 1.0)\n",
    "            bert_optimizer.step()\n",
    "            bert_scheduler.step()\n",
    "\n",
    "        # Calculate the average loss over the training data.\n",
    "        avg_train_loss = total_loss / len(train_loader) \n",
    "        loss_values.append(avg_train_loss) \n",
    "        train_acc = train_accuracy / len(train_loader) \n",
    "        acc_values.append(train_acc)          \n",
    "        \n",
    "        # Store the loss value for plotting the learning curve.\n",
    "        print(\"\")\n",
    "        print(\"  Average training loss: {0:.2f}\".format(avg_train_loss))\n",
    "        print(\"  Training epcoh took: {:}\".format(format_time(time.time() - t0)))\n",
    "            \n",
    "\n",
    "        # ===================================\n",
    "        #             Validation\n",
    "        # ===================================\n",
    "        print(\"\")\n",
    "        print(\"Running Validation...\")\n",
    "\n",
    "        t0 = time.time()\n",
    "\n",
    "        model.eval()\n",
    "\n",
    "        eval_loss, eval_accuracy = 0, 0\n",
    "        e_loss = 0\n",
    "\n",
    "        for batch in valid_dataloader:\n",
    "\n",
    "            batch = tuple(t.to(DEVICE) for t in batch)\n",
    "\n",
    "            b_input_ids, b_input_mask, b_labels = batch\n",
    "\n",
    "            with torch.no_grad():\n",
    "                outputs = model(b_input_ids,\n",
    "                                token_type_ids=None,\n",
    "                                attention_mask=b_input_mask,\n",
    "                                labels=b_labels)\n",
    "                loss = outputs[0]\n",
    "                e_loss += loss.item()\n",
    "\n",
    "                logits = outputs[1]\n",
    "                logits = logits.detach().cpu().numpy()\n",
    "                label_ids = b_labels.to('cpu').numpy()\n",
    "\n",
    "                tmp_eval_accuracy = flat_accuracy(logits, label_ids)\n",
    "                eval_accuracy += tmp_eval_accuracy\n",
    "\n",
    "                eval_loss = total_loss / len(valid_dataloader)\n",
    "        eval_loss_values.append(eval_loss)\n",
    "        eval_acc = eval_accuracy / len(valid_dataloader)\n",
    "        eval_acc_values.append(eval_acc)\n",
    "\n",
    "        print(\"   Validation loss : {0:.5f}\".format(eval_loss))\n",
    "        print(\"   Validation acc  : {0:.5f}\".format(eval_acc))\n",
    "        print(\"   Validation took : {:}\".format(format_time(time.time() - t0)))\n",
    "\n",
    "    print(\"Training complete!\")\n",
    "\n",
    "    return loss_values, acc_values, eval_loss_values, eval_acc_values"
   ]
  },
  {
   "cell_type": "code",
   "execution_count": 125,
   "metadata": {
    "colab": {
     "base_uri": "https://localhost:8080/"
    },
    "id": "kekLf79lopOL",
    "outputId": "6c3014dc-2e64-45b5-a81e-087dbf41a3ad"
   },
   "outputs": [
    {
     "name": "stderr",
     "output_type": "stream",
     "text": [
      "/usr/local/lib/python3.9/dist-packages/transformers/tokenization_utils_base.py:2346: FutureWarning: The `pad_to_max_length` argument is deprecated and will be removed in a future version, use `padding=True` or `padding='longest'` to pad to the longest sequence in the batch, or use `padding='max_length'` to pad to a max length. In this case, you can give a specific length with `max_length` (e.g. `max_length=45`) or leave max_length to None to pad to the maximal input size of the model (e.g. 512 for Bert).\n",
      "  warnings.warn(\n"
     ]
    }
   ],
   "source": [
    "train_input_ids, train_attention_masks, train_labels = tokenization(train_df)\n",
    "valid_input_ids, valid_attention_masks, valid_labels = tokenization(valid_df)\n",
    "test_input_ids, test_attention_masks, test_labels = tokenization(test_df)"
   ]
  },
  {
   "cell_type": "code",
   "execution_count": 126,
   "metadata": {
    "id": "_4qZ8JcGnWfg"
   },
   "outputs": [],
   "source": [
    "train_dataloader = dataloader(train_input_ids, train_attention_masks, train_labels)\n",
    "valid_dataloader = dataloader(valid_input_ids, valid_attention_masks, valid_labels)\n",
    "test_dataloader = dataloader(test_input_ids, test_attention_masks, test_labels)"
   ]
  },
  {
   "cell_type": "code",
   "execution_count": 127,
   "metadata": {
    "colab": {
     "base_uri": "https://localhost:8080/"
    },
    "id": "bNsHkmKjp-PR",
    "outputId": "6f80bbb6-2698-400f-e682-0411a5d4acca"
   },
   "outputs": [
    {
     "name": "stderr",
     "output_type": "stream",
     "text": [
      "/usr/local/lib/python3.9/dist-packages/transformers/optimization.py:391: FutureWarning: This implementation of AdamW is deprecated and will be removed in a future version. Use the PyTorch implementation torch.optim.AdamW instead, or set `no_deprecation_warning=True` to disable this warning\n",
      "  warnings.warn(\n"
     ]
    },
    {
     "name": "stdout",
     "output_type": "stream",
     "text": [
      "\n",
      "======== Epoch 1 / 5 ========\n",
      "Training...\n",
      "  Batch    50  of    400.    Elapsed: 0:00:32.\n",
      "  Batch   100  of    400.    Elapsed: 0:01:03.\n",
      "  Batch   150  of    400.    Elapsed: 0:01:34.\n",
      "  Batch   200  of    400.    Elapsed: 0:02:06.\n",
      "  Batch   250  of    400.    Elapsed: 0:02:37.\n",
      "  Batch   300  of    400.    Elapsed: 0:03:09.\n",
      "  Batch   350  of    400.    Elapsed: 0:03:40.\n",
      "\n",
      "  Average training loss: 0.75\n",
      "  Training epcoh took: 0:04:12\n",
      "\n",
      "Running Validation...\n",
      "   Validation loss : 5.98805\n",
      "   Validation acc  : 0.80500\n",
      "   Validation took : 0:00:11\n",
      "\n",
      "======== Epoch 2 / 5 ========\n",
      "Training...\n",
      "  Batch    50  of    400.    Elapsed: 0:00:31.\n",
      "  Batch   100  of    400.    Elapsed: 0:01:03.\n",
      "  Batch   150  of    400.    Elapsed: 0:01:34.\n",
      "  Batch   200  of    400.    Elapsed: 0:02:06.\n",
      "  Batch   250  of    400.    Elapsed: 0:02:37.\n",
      "  Batch   300  of    400.    Elapsed: 0:03:08.\n",
      "  Batch   350  of    400.    Elapsed: 0:03:40.\n",
      "\n",
      "  Average training loss: 0.29\n",
      "  Training epcoh took: 0:04:11\n",
      "\n",
      "Running Validation...\n",
      "   Validation loss : 2.32967\n",
      "   Validation acc  : 0.89250\n",
      "   Validation took : 0:00:11\n",
      "\n",
      "======== Epoch 3 / 5 ========\n",
      "Training...\n",
      "  Batch    50  of    400.    Elapsed: 0:00:31.\n",
      "  Batch   100  of    400.    Elapsed: 0:01:03.\n",
      "  Batch   150  of    400.    Elapsed: 0:01:34.\n",
      "  Batch   200  of    400.    Elapsed: 0:02:06.\n",
      "  Batch   250  of    400.    Elapsed: 0:02:37.\n",
      "  Batch   300  of    400.    Elapsed: 0:03:08.\n",
      "  Batch   350  of    400.    Elapsed: 0:03:40.\n",
      "\n",
      "  Average training loss: 0.11\n",
      "  Training epcoh took: 0:04:11\n",
      "\n",
      "Running Validation...\n",
      "   Validation loss : 0.85432\n",
      "   Validation acc  : 0.93500\n",
      "   Validation took : 0:00:11\n",
      "\n",
      "======== Epoch 4 / 5 ========\n",
      "Training...\n",
      "  Batch    50  of    400.    Elapsed: 0:00:31.\n",
      "  Batch   100  of    400.    Elapsed: 0:01:03.\n",
      "  Batch   150  of    400.    Elapsed: 0:01:34.\n",
      "  Batch   200  of    400.    Elapsed: 0:02:06.\n",
      "  Batch   250  of    400.    Elapsed: 0:02:37.\n",
      "  Batch   300  of    400.    Elapsed: 0:03:08.\n",
      "  Batch   350  of    400.    Elapsed: 0:03:40.\n",
      "\n",
      "  Average training loss: 0.04\n",
      "  Training epcoh took: 0:04:11\n",
      "\n",
      "Running Validation...\n",
      "   Validation loss : 0.33390\n",
      "   Validation acc  : 0.95125\n",
      "   Validation took : 0:00:11\n",
      "\n",
      "======== Epoch 5 / 5 ========\n",
      "Training...\n",
      "  Batch    50  of    400.    Elapsed: 0:00:31.\n",
      "  Batch   100  of    400.    Elapsed: 0:01:03.\n",
      "  Batch   150  of    400.    Elapsed: 0:01:34.\n",
      "  Batch   200  of    400.    Elapsed: 0:02:06.\n",
      "  Batch   250  of    400.    Elapsed: 0:02:37.\n",
      "  Batch   300  of    400.    Elapsed: 0:03:08.\n",
      "  Batch   350  of    400.    Elapsed: 0:03:40.\n",
      "\n",
      "  Average training loss: 0.02\n",
      "  Training epcoh took: 0:04:11\n",
      "\n",
      "Running Validation...\n",
      "   Validation loss : 0.17248\n",
      "   Validation acc  : 0.94375\n",
      "   Validation took : 0:00:11\n",
      "Training complete!\n"
     ]
    }
   ],
   "source": [
    "EPOCHS = 5\n",
    "\n",
    "loss_values, acc_values, eval_loss_values, eval_acc_values = train(bert_model, train_dataloader, valid_dataloader, DEVICE, EPOCHS)"
   ]
  },
  {
   "cell_type": "code",
   "execution_count": 128,
   "metadata": {
    "colab": {
     "base_uri": "https://localhost:8080/",
     "height": 427
    },
    "id": "cRmbYcFSATSm",
    "outputId": "5ee56ab0-1380-46e6-ed51-03a83fb15960"
   },
   "outputs": [
    {
     "data": {
      "image/png": "[encoded data removed]",
      "text/plain": [
       "<Figure size 864x432 with 1 Axes>"
      ]
     },
     "metadata": {},
     "output_type": "display_data"
    }
   ],
   "source": [
    "import seaborn as sns\n",
    "\n",
    "sns.set(font_scale=1.5)\n",
    "plt.rcParams[\"figure.figsize\"] = (12,6)\n",
    "plt.plot(loss_values)\n",
    "plt.plot(eval_loss_values)\n",
    "plt.title('Model Loss')\n",
    "plt.ylabel('loss')\n",
    "plt.xlabel('epoch')\n",
    "plt.legend(['train', 'valid'], loc='upper left')\n",
    "plt.show()"
   ]
  },
  {
   "cell_type": "code",
   "execution_count": 129,
   "metadata": {
    "colab": {
     "base_uri": "https://localhost:8080/",
     "height": 427
    },
    "id": "mn3Bt4HRATdv",
    "outputId": "ecd666db-fd51-42ec-e633-8a42a930e59f"
   },
   "outputs": [
    {
     "data": {
      "image/png": "[encoded data removed]",
      "text/plain": [
       "<Figure size 864x432 with 1 Axes>"
      ]
     },
     "metadata": {},
     "output_type": "display_data"
    }
   ],
   "source": [
    "import matplotlib.pyplot as plt\n",
    "sns.set(font_scale=1.5)\n",
    "plt.rcParams[\"figure.figsize\"] = (12,6)\n",
    "plt.plot(acc_values)\n",
    "plt.plot(eval_acc_values)\n",
    "plt.title('Model Accuracy')\n",
    "plt.ylim(0.5, 1)\n",
    "plt.ylabel('accuracy')\n",
    "plt.xlabel('epoch')\n",
    "plt.legend(['train', 'valid'], loc='lower right')\n",
    "plt.show()"
   ]
  },
  {
   "cell_type": "code",
   "execution_count": 130,
   "metadata": {
    "colab": {
     "base_uri": "https://localhost:8080/"
    },
    "id": "Anmw1AbXp-me",
    "outputId": "80385173-2ad0-4d36-a781-97d9885cb318"
   },
   "outputs": [
    {
     "name": "stdout",
     "output_type": "stream",
     "text": [
      "Predicting labels for 800 test sentences...\n",
      "DONE.\n"
     ]
    }
   ],
   "source": [
    "# Prediction on test set\n",
    "\n",
    "print('Predicting labels for {:,} test sentences...'.format(len(test_input_ids)))\n",
    "\n",
    "# Put model in evaluation mode\n",
    "bert_model.eval()\n",
    "\n",
    "# Tracking variables \n",
    "predictions , true_labels = [], []\n",
    "\n",
    "# Predict \n",
    "for batch in test_dataloader:\n",
    "    # Add batch to GPU\n",
    "    batch = tuple(t.to(DEVICE) for t in batch)\n",
    "    \n",
    "    # Unpack the inputs from our dataloader\n",
    "    b_input_ids, b_input_mask, b_labels = batch\n",
    "    \n",
    "    \n",
    "    with torch.no_grad():\n",
    "        # Forward pass, calculate logit predictions\n",
    "        outputs = bert_model(b_input_ids, token_type_ids=None, \n",
    "                        attention_mask=b_input_mask)\n",
    "\n",
    "    logits = outputs[0]\n",
    "\n",
    "    # Move logits and labels to CPU\n",
    "    logits = logits.detach().cpu().numpy()\n",
    "    label_ids = b_labels.to('cpu').numpy()\n",
    "    \n",
    "    # Store predictions and true labels\n",
    "    predictions.append(logits)\n",
    "    true_labels.append(label_ids)\n",
    "print('DONE.')"
   ]
  },
  {
   "cell_type": "code",
   "execution_count": 131,
   "metadata": {
    "colab": {
     "base_uri": "https://localhost:8080/"
    },
    "id": "FVIqF8MOr5JU",
    "outputId": "e41da296-c29f-4882-bf94-8eb8e6b73fa8"
   },
   "outputs": [
    {
     "name": "stdout",
     "output_type": "stream",
     "text": [
      "              precision    recall  f1-score   support\n",
      "\n",
      "           0       0.96      0.96      0.96       183\n",
      "           1       0.92      0.96      0.94       208\n",
      "           2       0.91      0.93      0.92       215\n",
      "           3       0.92      0.87      0.89       194\n",
      "\n",
      "    accuracy                           0.93       800\n",
      "   macro avg       0.93      0.93      0.93       800\n",
      "weighted avg       0.93      0.93      0.93       800\n",
      "\n"
     ]
    }
   ],
   "source": [
    "from sklearn.metrics import classification_report, confusion_matrix\n",
    "\n",
    "# Combine the correct labels for each batch into a single list.\n",
    "flat_true_labels = [item for sublist in true_labels for item in sublist]\n",
    "\n",
    "predictions_labels = [item for subitem in predictions for item in subitem]\n",
    "predictions_labels = np.argmax(predictions_labels, axis=1).flatten()\n",
    "\n",
    "print(classification_report(predictions_labels, flat_true_labels))"
   ]
  },
  {
   "cell_type": "code",
   "execution_count": 114,
   "metadata": {
    "colab": {
     "base_uri": "https://localhost:8080/",
     "height": 494
    },
    "id": "jHUmu49Br5QA",
    "outputId": "fba30d7e-eaf3-4162-b11d-088d16bf4a20"
   },
   "outputs": [
    {
     "data": {
      "text/plain": [
       "<sklearn.metrics._plot.confusion_matrix.ConfusionMatrixDisplay at 0x7f6488d4e550>"
      ]
     },
     "execution_count": 114,
     "metadata": {},
     "output_type": "execute_result"
    },
    {
     "data": {
      "image/png": "[encoded data removed]",
      "text/plain": [
       "<Figure size 576x576 with 2 Axes>"
      ]
     },
     "metadata": {},
     "output_type": "display_data"
    }
   ],
   "source": [
    "labels = {\n",
    "    \"bug report\": 0,\n",
    "    \"feature request\": 1,\n",
    "    \"rating\": 2,\n",
    "    \"user experience\": 3\n",
    "        }\n",
    "\n",
    "# Plot confusion matrix.\n",
    "fig, ax = plt.subplots(figsize=(8, 8))\n",
    "cm = confusion_matrix(y_true=flat_true_labels, y_pred=predictions_labels, labels=range(len(labels)), normalize='true')\n",
    "disp = ConfusionMatrixDisplay(confusion_matrix=cm, display_labels=list(labels.keys()))\n",
    "disp.plot(ax=ax)"
   ]
  }
 ],
 "metadata": {
  "accelerator": "GPU",
  "colab": {
   "machine_shape": "hm",
   "provenance": []
  },
  "gpuClass": "standard",
  "kernelspec": {
   "display_name": "Python 3",
   "language": "python",
   "name": "python3"
  },
  "language_info": {
   "codemirror_mode": {
    "name": "ipython",
    "version": 3
   },
   "file_extension": ".py",
   "mimetype": "text/x-python",
   "name": "python",
   "nbconvert_exporter": "python",
   "pygments_lexer": "ipython3",
   "version": "3.8.5"
  }
 },
 "nbformat": 4,
 "nbformat_minor": 1
}
