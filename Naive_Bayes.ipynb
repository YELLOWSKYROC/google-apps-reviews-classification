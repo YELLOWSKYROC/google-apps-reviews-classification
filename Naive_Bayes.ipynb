{
  "cells": [
    {
      "cell_type": "code",
      "source": [
        "# datasets from my GitHub\n",
        "!git clone https://github.com/William-HTP/Google-Play-App-Reviews-Datasets.git"
      ],
      "metadata": {
        "colab": {
          "base_uri": "https://localhost:8080/"
        },
        "id": "6JuF_7I_70K1",
        "outputId": "a7cd83bb-c2de-41c7-8bff-d79213a569c8"
      },
      "execution_count": 1,
      "outputs": [
        {
          "output_type": "stream",
          "name": "stdout",
          "text": [
            "Cloning into 'Google-Play-App-Reviews-Datasets'...\n",
            "remote: Enumerating objects: 13, done.\u001b[K\n",
            "remote: Counting objects: 100% (13/13), done.\u001b[K\n",
            "remote: Compressing objects: 100% (12/12), done.\u001b[K\n",
            "remote: Total 13 (delta 2), reused 0 (delta 0), pack-reused 0\u001b[K\n",
            "Unpacking objects: 100% (13/13), 3.18 MiB | 7.51 MiB/s, done.\n"
          ]
        }
      ]
    },
    {
      "cell_type": "code",
      "execution_count": 2,
      "metadata": {
        "id": "1o3szpFX7qzE"
      },
      "outputs": [],
      "source": [
        "import pandas as pd\n",
        "import numpy as np\n",
        "import matplotlib.pyplot as plt\n",
        "\n",
        "from sklearn.preprocessing import LabelEncoder\n",
        "from sklearn.feature_extraction.text import TfidfVectorizer\n",
        "from sklearn import model_selection, naive_bayes\n",
        "from sklearn.metrics import accuracy_score\n",
        "from sklearn.metrics import classification_report\n",
        "from sklearn.metrics import confusion_matrix\n",
        "from sklearn.metrics import ConfusionMatrixDisplay"
      ]
    },
    {
      "cell_type": "code",
      "execution_count": 34,
      "metadata": {
        "colab": {
          "base_uri": "https://localhost:8080/",
          "height": 971
        },
        "id": "04aXQDYz7qzI",
        "outputId": "59941434-ef50-4792-9d31-367786707881"
      },
      "outputs": [
        {
          "output_type": "execute_result",
          "data": {
            "text/plain": [
              "        ID  \\\n",
              "0        1   \n",
              "1        2   \n",
              "2        3   \n",
              "3        4   \n",
              "4        5   \n",
              "...    ...   \n",
              "7995  7996   \n",
              "7996  7997   \n",
              "7997  7998   \n",
              "7998  7999   \n",
              "7999  8000   \n",
              "\n",
              "                                                                                                                                                               review  \\\n",
              "0                                                                                 Not able to add freinds. It show something went wrong.. Recommend not to install it   \n",
              "1                                                                                                             Calls keep dropping for no reason and is super annoying   \n",
              "2                                                                                                             Can't access to my account solve this issue immediately   \n",
              "3     I don't know what's wrong with my own WhatsApp. Its not working. And if I want to sign up, it will just be bringing try again later. You guys should see to it.   \n",
              "4                                                                                                                              Cannot record audio while taking video   \n",
              "...                                                                                                                                                               ...   \n",
              "7995                                                                                                                                good app, l will give you 5 star!   \n",
              "7996                                                                                                                                     Never had a problem with it.   \n",
              "7997                                                                                                           It  s great and I recommend it all the time to others.   \n",
              "7998                                                                                                                                      Everyone can use this app ,   \n",
              "7999                                                               I had to Google it to discover that you have to tap the camera button, then the little image icon.   \n",
              "\n",
              "                label  new_label  \\\n",
              "0          bug report          0   \n",
              "1          bug report          0   \n",
              "2          bug report          0   \n",
              "3          bug report          0   \n",
              "4          bug report          0   \n",
              "...               ...        ...   \n",
              "7995           rating          2   \n",
              "7996           rating          2   \n",
              "7997           rating          2   \n",
              "7998           rating          2   \n",
              "7999  user experience          3   \n",
              "\n",
              "                                                              remove_all_stopwords  \\\n",
              "0                     able add freinds show something went wrong recommend install   \n",
              "1                                        calls keep dropping reason super annoying   \n",
              "2                                      cant access account solve issue immediately   \n",
              "3     dont know whats wrong whatsapp working want sign bringing try later guys see   \n",
              "4                                                 cannot record audio taking video   \n",
              "...                                                                            ...   \n",
              "7995                                                        good app l give 5 star   \n",
              "7996                                                                 never problem   \n",
              "7997                                                   great recommend time others   \n",
              "7998                                                              everyone use app   \n",
              "7999                           google discover tap camera button little image icon   \n",
              "\n",
              "                                                                                      remove_some_stopwords  \\\n",
              "0                                      not able add freinds show something went wrong recommend not install   \n",
              "1                                                              calls keep dropping no reason super annoying   \n",
              "2                                                               cant access account solve issue immediately   \n",
              "3     dont know whats wrong whatsapp not working want sign up will bringing try again later guys should see   \n",
              "4                                                                          cannot record audio taking video   \n",
              "...                                                                                                     ...   \n",
              "7995                                                                            good app l will give 5 star   \n",
              "7996                                                                                          never problem   \n",
              "7997                                                                        great recommend all time others   \n",
              "7998                                                                                   everyone can use app   \n",
              "7999                                               google discover have tap camera button little image icon   \n",
              "\n",
              "                                                                                                                                             stemming  \\\n",
              "0                                                                          not abl to add freind it show someth went wrong recommend not to instal it   \n",
              "1                                                                                                     call keep drop for no reason and is super annoy   \n",
              "2                                                                                                      cant access to my account solv thi issu immedi   \n",
              "3     i dont know what wrong with my own whatsapp it not work and if i want to sign up it will just be bring tri again later you guy should see to it   \n",
              "4                                                                                                                cannot record audio while take video   \n",
              "...                                                                                                                                               ...   \n",
              "7995                                                                                                                  good app l will give you 5 star   \n",
              "7996                                                                                                                      never had a problem with it   \n",
              "7997                                                                                              it s great and i recommend it all the time to other   \n",
              "7998                                                                                                                          everyon can use thi app   \n",
              "7999                                                      i had to googl it to discov that you have to tap the camera button then the littl imag icon   \n",
              "\n",
              "                                                                                                                                               lemmatization  \n",
              "0                                                                           not able to add freinds it show something went wrong recommend not to install it  \n",
              "1                                                                                                     call keep dropping for no reason and is super annoying  \n",
              "2                                                                                                     cant access to my account solve this issue immediately  \n",
              "3     i dont know whats wrong with my own whatsapp it not working and if i want to sign up it will just be bringing try again later you guy should see to it  \n",
              "4                                                                                                                     cannot record audio while taking video  \n",
              "...                                                                                                                                                      ...  \n",
              "7995                                                                                                                         good app l will give you 5 star  \n",
              "7996                                                                                                                             never had a problem with it  \n",
              "7997                                                                                                    it s great and i recommend it all the time to others  \n",
              "7998                                                                                                                               everyone can use this app  \n",
              "7999                                                        i had to google it to discover that you have to tap the camera button then the little image icon  \n",
              "\n",
              "[8000 rows x 8 columns]"
            ],
            "text/html": [
              "\n",
              "  <div id=\"df-4c17fad7-0b92-4334-85a0-9deb54d1bccf\">\n",
              "    <div class=\"colab-df-container\">\n",
              "      <div>\n",
              "<style scoped>\n",
              "    .dataframe tbody tr th:only-of-type {\n",
              "        vertical-align: middle;\n",
              "    }\n",
              "\n",
              "    .dataframe tbody tr th {\n",
              "        vertical-align: top;\n",
              "    }\n",
              "\n",
              "    .dataframe thead th {\n",
              "        text-align: right;\n",
              "    }\n",
              "</style>\n",
              "<table border=\"1\" class=\"dataframe\">\n",
              "  <thead>\n",
              "    <tr style=\"text-align: right;\">\n",
              "      <th></th>\n",
              "      <th>ID</th>\n",
              "      <th>review</th>\n",
              "      <th>label</th>\n",
              "      <th>new_label</th>\n",
              "      <th>remove_all_stopwords</th>\n",
              "      <th>remove_some_stopwords</th>\n",
              "      <th>stemming</th>\n",
              "      <th>lemmatization</th>\n",
              "    </tr>\n",
              "  </thead>\n",
              "  <tbody>\n",
              "    <tr>\n",
              "      <th>0</th>\n",
              "      <td>1</td>\n",
              "      <td>Not able to add freinds. It show something went wrong.. Recommend not to install it</td>\n",
              "      <td>bug report</td>\n",
              "      <td>0</td>\n",
              "      <td>able add freinds show something went wrong recommend install</td>\n",
              "      <td>not able add freinds show something went wrong recommend not install</td>\n",
              "      <td>not abl to add freind it show someth went wrong recommend not to instal it</td>\n",
              "      <td>not able to add freinds it show something went wrong recommend not to install it</td>\n",
              "    </tr>\n",
              "    <tr>\n",
              "      <th>1</th>\n",
              "      <td>2</td>\n",
              "      <td>Calls keep dropping for no reason and is super annoying</td>\n",
              "      <td>bug report</td>\n",
              "      <td>0</td>\n",
              "      <td>calls keep dropping reason super annoying</td>\n",
              "      <td>calls keep dropping no reason super annoying</td>\n",
              "      <td>call keep drop for no reason and is super annoy</td>\n",
              "      <td>call keep dropping for no reason and is super annoying</td>\n",
              "    </tr>\n",
              "    <tr>\n",
              "      <th>2</th>\n",
              "      <td>3</td>\n",
              "      <td>Can't access to my account solve this issue immediately</td>\n",
              "      <td>bug report</td>\n",
              "      <td>0</td>\n",
              "      <td>cant access account solve issue immediately</td>\n",
              "      <td>cant access account solve issue immediately</td>\n",
              "      <td>cant access to my account solv thi issu immedi</td>\n",
              "      <td>cant access to my account solve this issue immediately</td>\n",
              "    </tr>\n",
              "    <tr>\n",
              "      <th>3</th>\n",
              "      <td>4</td>\n",
              "      <td>I don't know what's wrong with my own WhatsApp. Its not working. And if I want to sign up, it will just be bringing try again later. You guys should see to it.</td>\n",
              "      <td>bug report</td>\n",
              "      <td>0</td>\n",
              "      <td>dont know whats wrong whatsapp working want sign bringing try later guys see</td>\n",
              "      <td>dont know whats wrong whatsapp not working want sign up will bringing try again later guys should see</td>\n",
              "      <td>i dont know what wrong with my own whatsapp it not work and if i want to sign up it will just be bring tri again later you guy should see to it</td>\n",
              "      <td>i dont know whats wrong with my own whatsapp it not working and if i want to sign up it will just be bringing try again later you guy should see to it</td>\n",
              "    </tr>\n",
              "    <tr>\n",
              "      <th>4</th>\n",
              "      <td>5</td>\n",
              "      <td>Cannot record audio while taking video</td>\n",
              "      <td>bug report</td>\n",
              "      <td>0</td>\n",
              "      <td>cannot record audio taking video</td>\n",
              "      <td>cannot record audio taking video</td>\n",
              "      <td>cannot record audio while take video</td>\n",
              "      <td>cannot record audio while taking video</td>\n",
              "    </tr>\n",
              "    <tr>\n",
              "      <th>...</th>\n",
              "      <td>...</td>\n",
              "      <td>...</td>\n",
              "      <td>...</td>\n",
              "      <td>...</td>\n",
              "      <td>...</td>\n",
              "      <td>...</td>\n",
              "      <td>...</td>\n",
              "      <td>...</td>\n",
              "    </tr>\n",
              "    <tr>\n",
              "      <th>7995</th>\n",
              "      <td>7996</td>\n",
              "      <td>good app, l will give you 5 star!</td>\n",
              "      <td>rating</td>\n",
              "      <td>2</td>\n",
              "      <td>good app l give 5 star</td>\n",
              "      <td>good app l will give 5 star</td>\n",
              "      <td>good app l will give you 5 star</td>\n",
              "      <td>good app l will give you 5 star</td>\n",
              "    </tr>\n",
              "    <tr>\n",
              "      <th>7996</th>\n",
              "      <td>7997</td>\n",
              "      <td>Never had a problem with it.</td>\n",
              "      <td>rating</td>\n",
              "      <td>2</td>\n",
              "      <td>never problem</td>\n",
              "      <td>never problem</td>\n",
              "      <td>never had a problem with it</td>\n",
              "      <td>never had a problem with it</td>\n",
              "    </tr>\n",
              "    <tr>\n",
              "      <th>7997</th>\n",
              "      <td>7998</td>\n",
              "      <td>It  s great and I recommend it all the time to others.</td>\n",
              "      <td>rating</td>\n",
              "      <td>2</td>\n",
              "      <td>great recommend time others</td>\n",
              "      <td>great recommend all time others</td>\n",
              "      <td>it s great and i recommend it all the time to other</td>\n",
              "      <td>it s great and i recommend it all the time to others</td>\n",
              "    </tr>\n",
              "    <tr>\n",
              "      <th>7998</th>\n",
              "      <td>7999</td>\n",
              "      <td>Everyone can use this app ,</td>\n",
              "      <td>rating</td>\n",
              "      <td>2</td>\n",
              "      <td>everyone use app</td>\n",
              "      <td>everyone can use app</td>\n",
              "      <td>everyon can use thi app</td>\n",
              "      <td>everyone can use this app</td>\n",
              "    </tr>\n",
              "    <tr>\n",
              "      <th>7999</th>\n",
              "      <td>8000</td>\n",
              "      <td>I had to Google it to discover that you have to tap the camera button, then the little image icon.</td>\n",
              "      <td>user experience</td>\n",
              "      <td>3</td>\n",
              "      <td>google discover tap camera button little image icon</td>\n",
              "      <td>google discover have tap camera button little image icon</td>\n",
              "      <td>i had to googl it to discov that you have to tap the camera button then the littl imag icon</td>\n",
              "      <td>i had to google it to discover that you have to tap the camera button then the little image icon</td>\n",
              "    </tr>\n",
              "  </tbody>\n",
              "</table>\n",
              "<p>8000 rows × 8 columns</p>\n",
              "</div>\n",
              "      <button class=\"colab-df-convert\" onclick=\"convertToInteractive('df-4c17fad7-0b92-4334-85a0-9deb54d1bccf')\"\n",
              "              title=\"Convert this dataframe to an interactive table.\"\n",
              "              style=\"display:none;\">\n",
              "        \n",
              "  <svg xmlns=\"http://www.w3.org/2000/svg\" height=\"24px\"viewBox=\"0 0 24 24\"\n",
              "       width=\"24px\">\n",
              "    <path d=\"M0 0h24v24H0V0z\" fill=\"none\"/>\n",
              "    <path d=\"M18.56 5.44l.94 2.06.94-2.06 2.06-.94-2.06-.94-.94-2.06-.94 2.06-2.06.94zm-11 1L8.5 8.5l.94-2.06 2.06-.94-2.06-.94L8.5 2.5l-.94 2.06-2.06.94zm10 10l.94 2.06.94-2.06 2.06-.94-2.06-.94-.94-2.06-.94 2.06-2.06.94z\"/><path d=\"M17.41 7.96l-1.37-1.37c-.4-.4-.92-.59-1.43-.59-.52 0-1.04.2-1.43.59L10.3 9.45l-7.72 7.72c-.78.78-.78 2.05 0 2.83L4 21.41c.39.39.9.59 1.41.59.51 0 1.02-.2 1.41-.59l7.78-7.78 2.81-2.81c.8-.78.8-2.07 0-2.86zM5.41 20L4 18.59l7.72-7.72 1.47 1.35L5.41 20z\"/>\n",
              "  </svg>\n",
              "      </button>\n",
              "      \n",
              "  <style>\n",
              "    .colab-df-container {\n",
              "      display:flex;\n",
              "      flex-wrap:wrap;\n",
              "      gap: 12px;\n",
              "    }\n",
              "\n",
              "    .colab-df-convert {\n",
              "      background-color: #E8F0FE;\n",
              "      border: none;\n",
              "      border-radius: 50%;\n",
              "      cursor: pointer;\n",
              "      display: none;\n",
              "      fill: #1967D2;\n",
              "      height: 32px;\n",
              "      padding: 0 0 0 0;\n",
              "      width: 32px;\n",
              "    }\n",
              "\n",
              "    .colab-df-convert:hover {\n",
              "      background-color: #E2EBFA;\n",
              "      box-shadow: 0px 1px 2px rgba(60, 64, 67, 0.3), 0px 1px 3px 1px rgba(60, 64, 67, 0.15);\n",
              "      fill: #174EA6;\n",
              "    }\n",
              "\n",
              "    [theme=dark] .colab-df-convert {\n",
              "      background-color: #3B4455;\n",
              "      fill: #D2E3FC;\n",
              "    }\n",
              "\n",
              "    [theme=dark] .colab-df-convert:hover {\n",
              "      background-color: #434B5C;\n",
              "      box-shadow: 0px 1px 3px 1px rgba(0, 0, 0, 0.15);\n",
              "      filter: drop-shadow(0px 1px 2px rgba(0, 0, 0, 0.3));\n",
              "      fill: #FFFFFF;\n",
              "    }\n",
              "  </style>\n",
              "\n",
              "      <script>\n",
              "        const buttonEl =\n",
              "          document.querySelector('#df-4c17fad7-0b92-4334-85a0-9deb54d1bccf button.colab-df-convert');\n",
              "        buttonEl.style.display =\n",
              "          google.colab.kernel.accessAllowed ? 'block' : 'none';\n",
              "\n",
              "        async function convertToInteractive(key) {\n",
              "          const element = document.querySelector('#df-4c17fad7-0b92-4334-85a0-9deb54d1bccf');\n",
              "          const dataTable =\n",
              "            await google.colab.kernel.invokeFunction('convertToInteractive',\n",
              "                                                     [key], {});\n",
              "          if (!dataTable) return;\n",
              "\n",
              "          const docLinkHtml = 'Like what you see? Visit the ' +\n",
              "            '<a target=\"_blank\" href=https://colab.research.google.com/notebooks/data_table.ipynb>data table notebook</a>'\n",
              "            + ' to learn more about interactive tables.';\n",
              "          element.innerHTML = '';\n",
              "          dataTable['output_type'] = 'display_data';\n",
              "          await google.colab.output.renderOutput(dataTable, element);\n",
              "          const docLink = document.createElement('div');\n",
              "          docLink.innerHTML = docLinkHtml;\n",
              "          element.appendChild(docLink);\n",
              "        }\n",
              "      </script>\n",
              "    </div>\n",
              "  </div>\n",
              "  "
            ]
          },
          "metadata": {},
          "execution_count": 34
        }
      ],
      "source": [
        "df = pd.read_excel('/content/Google-Play-App-Reviews-Datasets/dataset_balanced_8000.xlsx')\n",
        "pd.set_option('display.max_colwidth', None)\n",
        "df"
      ]
    },
    {
      "cell_type": "code",
      "execution_count": 35,
      "metadata": {
        "colab": {
          "base_uri": "https://localhost:8080/"
        },
        "id": "5NbCXejo7qzJ",
        "outputId": "d8d6685b-2317-40b0-a409-8c7afdd81a30"
      },
      "outputs": [
        {
          "output_type": "execute_result",
          "data": {
            "text/plain": [
              "0    2000\n",
              "1    2000\n",
              "2    2000\n",
              "3    2000\n",
              "Name: new_label, dtype: int64"
            ]
          },
          "metadata": {},
          "execution_count": 35
        }
      ],
      "source": [
        "df['new_label'].value_counts()"
      ]
    },
    {
      "cell_type": "code",
      "execution_count": 36,
      "metadata": {
        "id": "eau6YA5t7qzK"
      },
      "outputs": [],
      "source": [
        "Train_X, Test_X, Train_Y, Test_Y = model_selection.train_test_split(df['review'],df['new_label'],test_size=0.2)\n",
        "\n",
        "Encoder = LabelEncoder()\n",
        "Train_Y = Encoder.fit_transform(Train_Y)\n",
        "Test_Y = Encoder.fit_transform(Test_Y)\n",
        "\n",
        "Tfidf_vect = TfidfVectorizer(max_features=5000)\n",
        "Tfidf_vect.fit(df['review'])\n",
        "Train_X_Tfidf = Tfidf_vect.transform(Train_X)\n",
        "Test_X_Tfidf = Tfidf_vect.transform(Test_X)"
      ]
    },
    {
      "cell_type": "code",
      "execution_count": 37,
      "metadata": {
        "colab": {
          "base_uri": "https://localhost:8080/"
        },
        "id": "Pl5KdekD7qzK",
        "outputId": "a7cbef06-5d12-4b92-b2a1-1ba3dcec6939"
      },
      "outputs": [
        {
          "output_type": "stream",
          "name": "stdout",
          "text": [
            "Naive Bayes Accuracy Score: 78.562%\n"
          ]
        }
      ],
      "source": [
        "# fit the training dataset on the NB classifier\n",
        "Naive = naive_bayes.MultinomialNB()\n",
        "Naive.fit(Train_X_Tfidf,Train_Y)\n",
        "# predict the labels on validation dataset\n",
        "predictions_NB = Naive.predict(Test_X_Tfidf)\n",
        "# Use accuracy_score function to get the accuracy\n",
        "print('Naive Bayes Accuracy Score: {:.3%}'.format(accuracy_score(predictions_NB, Test_Y)))"
      ]
    },
    {
      "cell_type": "code",
      "execution_count": 38,
      "metadata": {
        "colab": {
          "base_uri": "https://localhost:8080/"
        },
        "id": "xQ7dhMuk7qzL",
        "outputId": "ce276c24-23e1-464a-8427-e4d5bfa266bb"
      },
      "outputs": [
        {
          "output_type": "stream",
          "name": "stdout",
          "text": [
            "              precision    recall  f1-score   support\n",
            "\n",
            "           0       0.71      0.91      0.80       394\n",
            "           1       0.83      0.73      0.78       413\n",
            "           2       0.87      0.74      0.80       400\n",
            "           3       0.77      0.77      0.77       393\n",
            "\n",
            "    accuracy                           0.79      1600\n",
            "   macro avg       0.79      0.79      0.79      1600\n",
            "weighted avg       0.80      0.79      0.79      1600\n",
            "\n"
          ]
        }
      ],
      "source": [
        "print(classification_report(Test_Y, predictions_NB))"
      ]
    },
    {
      "cell_type": "code",
      "execution_count": null,
      "metadata": {
        "colab": {
          "base_uri": "https://localhost:8080/",
          "height": 486
        },
        "id": "5_dG6M6y7qzL",
        "outputId": "52ebc2c0-bca4-4df4-ef3b-f783368003d1"
      },
      "outputs": [
        {
          "output_type": "execute_result",
          "data": {
            "text/plain": [
              "<sklearn.metrics._plot.confusion_matrix.ConfusionMatrixDisplay at 0x7f19a60dc2e0>"
            ]
          },
          "metadata": {},
          "execution_count": 9
        },
        {
          "output_type": "display_data",
          "data": {
            "text/plain": [
              "<Figure size 576x576 with 2 Axes>"
            ],
            "image/png": "[encoded data removed]"
          },
          "metadata": {
            "needs_background": "light"
          }
        }
      ],
      "source": [
        "# Plot confusion matrix.\n",
        "labels = [\"bug report\", \"feature request\", \"user experience\", \"rating\"]\n",
        "fig, ax = plt.subplots(figsize=(8, 8))\n",
        "cm = confusion_matrix(y_true=Test_Y, y_pred=predictions_NB, labels=range(len(labels)), normalize='true')\n",
        "disp = ConfusionMatrixDisplay(confusion_matrix=cm, display_labels=labels)\n",
        "disp.plot(ax=ax)"
      ]
    },
    {
      "cell_type": "code",
      "execution_count": null,
      "metadata": {
        "id": "94rS1adc7qzM"
      },
      "outputs": [],
      "source": []
    }
  ],
  "metadata": {
    "kernelspec": {
      "display_name": "Python 3",
      "language": "python",
      "name": "python3"
    },
    "language_info": {
      "codemirror_mode": {
        "name": "ipython",
        "version": 3
      },
      "file_extension": ".py",
      "mimetype": "text/x-python",
      "name": "python",
      "nbconvert_exporter": "python",
      "pygments_lexer": "ipython3",
      "version": "3.8.5"
    },
    "colab": {
      "provenance": []
    }
  },
  "nbformat": 4,
  "nbformat_minor": 0
}