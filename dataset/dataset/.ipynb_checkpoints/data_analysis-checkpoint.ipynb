{
 "cells": [
  {
   "cell_type": "code",
   "execution_count": 92,
   "metadata": {},
   "outputs": [],
   "source": [
    "import openpyxl\n",
    "import pandas as pd\n",
    "from numpy import *\n",
    "from collections import Counter\n",
    "import matplotlib.pyplot as plt\n",
    "from numpy.random import randn,rand"
   ]
  },
  {
   "cell_type": "code",
   "execution_count": 37,
   "metadata": {},
   "outputs": [],
   "source": [
    "frame = pd.read_excel(\"/Users/htp/Desktop/new_data.xlsx\")"
   ]
  },
  {
   "cell_type": "code",
   "execution_count": 39,
   "metadata": {},
   "outputs": [
    {
     "data": {
      "text/html": [
       "<div>\n",
       "<style scoped>\n",
       "    .dataframe tbody tr th:only-of-type {\n",
       "        vertical-align: middle;\n",
       "    }\n",
       "\n",
       "    .dataframe tbody tr th {\n",
       "        vertical-align: top;\n",
       "    }\n",
       "\n",
       "    .dataframe thead th {\n",
       "        text-align: right;\n",
       "    }\n",
       "</style>\n",
       "<table border=\"1\" class=\"dataframe\">\n",
       "  <thead>\n",
       "    <tr style=\"text-align: right;\">\n",
       "      <th></th>\n",
       "      <th>Review</th>\n",
       "      <th>Stars</th>\n",
       "      <th>Class</th>\n",
       "    </tr>\n",
       "  </thead>\n",
       "  <tbody>\n",
       "    <tr>\n",
       "      <th>0</th>\n",
       "      <td>Absolutely pathetic experience, No dark mode (...</td>\n",
       "      <td>1</td>\n",
       "      <td>feature request</td>\n",
       "    </tr>\n",
       "    <tr>\n",
       "      <th>1</th>\n",
       "      <td>My biggest complain is that it not snd snaps t...</td>\n",
       "      <td>1</td>\n",
       "      <td>feature request</td>\n",
       "    </tr>\n",
       "    <tr>\n",
       "      <th>2</th>\n",
       "      <td>Still waiting for dark more from india even af...</td>\n",
       "      <td>1</td>\n",
       "      <td>User experience</td>\n",
       "    </tr>\n",
       "    <tr>\n",
       "      <th>3</th>\n",
       "      <td>Happy but, sometimes I annoyed</td>\n",
       "      <td>1</td>\n",
       "      <td>rating</td>\n",
       "    </tr>\n",
       "    <tr>\n",
       "      <th>4</th>\n",
       "      <td>Make it like better with a giant pig bigger th...</td>\n",
       "      <td>1</td>\n",
       "      <td>feature request</td>\n",
       "    </tr>\n",
       "    <tr>\n",
       "      <th>5</th>\n",
       "      <td>Don't buy snapchat plus, this is a BIG scam.</td>\n",
       "      <td>1</td>\n",
       "      <td>rating</td>\n",
       "    </tr>\n",
       "    <tr>\n",
       "      <th>6</th>\n",
       "      <td>Not able to add freinds. It show something wen...</td>\n",
       "      <td>1</td>\n",
       "      <td>bug report</td>\n",
       "    </tr>\n",
       "    <tr>\n",
       "      <th>7</th>\n",
       "      <td>Where is dark mode? Surely it's not that hard?!</td>\n",
       "      <td>1</td>\n",
       "      <td>feature request</td>\n",
       "    </tr>\n",
       "    <tr>\n",
       "      <th>8</th>\n",
       "      <td>I can't disable notifications about new lenses...</td>\n",
       "      <td>1</td>\n",
       "      <td>User experience</td>\n",
       "    </tr>\n",
       "    <tr>\n",
       "      <th>9</th>\n",
       "      <td>You are Preparing your Self for a hell</td>\n",
       "      <td>1</td>\n",
       "      <td>rating</td>\n",
       "    </tr>\n",
       "  </tbody>\n",
       "</table>\n",
       "</div>"
      ],
      "text/plain": [
       "                                              Review  Stars            Class\n",
       "0  Absolutely pathetic experience, No dark mode (...      1  feature request\n",
       "1  My biggest complain is that it not snd snaps t...      1  feature request\n",
       "2  Still waiting for dark more from india even af...      1  User experience\n",
       "3                     Happy but, sometimes I annoyed      1           rating\n",
       "4  Make it like better with a giant pig bigger th...      1  feature request\n",
       "5       Don't buy snapchat plus, this is a BIG scam.      1           rating\n",
       "6  Not able to add freinds. It show something wen...      1       bug report\n",
       "7    Where is dark mode? Surely it's not that hard?!      1  feature request\n",
       "8  I can't disable notifications about new lenses...      1  User experience\n",
       "9             You are Preparing your Self for a hell      1           rating"
      ]
     },
     "execution_count": 39,
     "metadata": {},
     "output_type": "execute_result"
    }
   ],
   "source": [
    "df_reviews_content = pd.DataFrame(frame, columns=[\"Review\",\"Stars\",\"Class\"])\n",
    "df_reviews_content.head(10)"
   ]
  },
  {
   "cell_type": "code",
   "execution_count": 33,
   "metadata": {},
   "outputs": [
    {
     "name": "stdout",
     "output_type": "stream",
     "text": [
      "User experience    1037\n",
      "bug report         1036\n",
      "rating              780\n",
      "feature request     478\n",
      "Name: Class, dtype: int64\n"
     ]
    }
   ],
   "source": [
    "print(frame['Class'].value_counts())"
   ]
  },
  {
   "cell_type": "code",
   "execution_count": 34,
   "metadata": {},
   "outputs": [
    {
     "name": "stdout",
     "output_type": "stream",
     "text": [
      "1    962\n",
      "5    675\n",
      "2    585\n",
      "4    560\n",
      "3    549\n",
      "Name: Stars, dtype: int64\n"
     ]
    }
   ],
   "source": [
    "print(frame['Stars'].value_counts())"
   ]
  },
  {
   "cell_type": "code",
   "execution_count": 32,
   "metadata": {},
   "outputs": [
    {
     "name": "stdout",
     "output_type": "stream",
     "text": [
      "Mean: 2.82017412188532\n"
     ]
    }
   ],
   "source": [
    "# Star\n",
    "df2 = pd.read_excel(\"/Users/htp/Desktop/new_data.xlsx\",sheet_name='Sheet1',usecols=[1])\n",
    "data2 = df2.values\n",
    "\n",
    "arr2 = []\n",
    "for i in range(len(data2)):\n",
    "    arr2.append(data2[i][0])\n",
    "\n",
    "print(\"Mean:\",mean(arr2))"
   ]
  },
  {
   "cell_type": "code",
   "execution_count": 50,
   "metadata": {
    "scrolled": true
   },
   "outputs": [
    {
     "data": {
      "text/plain": [
       "<AxesSubplot:ylabel='Stars'>"
      ]
     },
     "execution_count": 50,
     "metadata": {},
     "output_type": "execute_result"
    },
    {
     "data": {
      "image/png": "[encoded data removed]",
      "text/plain": [
       "<Figure size 360x360 with 1 Axes>"
      ]
     },
     "metadata": {},
     "output_type": "display_data"
    }
   ],
   "source": [
    "frame['Stars'].value_counts().plot(kind ='pie',figsize=(5,5),autopct='%1.1f%%')"
   ]
  },
  {
   "cell_type": "code",
   "execution_count": 71,
   "metadata": {
    "scrolled": false
   },
   "outputs": [],
   "source": [
    "df_s1 = frame[frame['Stars']==1]\n",
    "df_s2 = frame[frame['Stars']==2]\n",
    "df_s3 = frame[frame['Stars']==3]\n",
    "df_s4 = frame[frame['Stars']==4]\n",
    "df_s5 = frame[frame['Stars']==5]\n",
    "s1 = df_s1['Class'].value_counts()\n",
    "l1 = [i for i in s1]\n",
    "s2 = df_s2['Class'].value_counts()\n",
    "l2 = [i for i in s2]\n",
    "s3 = df_s3['Class'].value_counts()\n",
    "l3 = [i for i in s3]\n",
    "s4 = df_s4['Class'].value_counts()\n",
    "l4 = [i for i in s4]\n",
    "s5 = df_s5['Class'].value_counts()\n",
    "l5 = [i for i in s5]"
   ]
  },
  {
   "cell_type": "code",
   "execution_count": 72,
   "metadata": {},
   "outputs": [
    {
     "data": {
      "text/html": [
       "<div>\n",
       "<style scoped>\n",
       "    .dataframe tbody tr th:only-of-type {\n",
       "        vertical-align: middle;\n",
       "    }\n",
       "\n",
       "    .dataframe tbody tr th {\n",
       "        vertical-align: top;\n",
       "    }\n",
       "\n",
       "    .dataframe thead th {\n",
       "        text-align: right;\n",
       "    }\n",
       "</style>\n",
       "<table border=\"1\" class=\"dataframe\">\n",
       "  <thead>\n",
       "    <tr style=\"text-align: right;\">\n",
       "      <th></th>\n",
       "      <th>Class</th>\n",
       "      <th>1 star</th>\n",
       "      <th>2 star</th>\n",
       "      <th>3 star</th>\n",
       "      <th>4 star</th>\n",
       "      <th>5 star</th>\n",
       "    </tr>\n",
       "  </thead>\n",
       "  <tbody>\n",
       "    <tr>\n",
       "      <th>0</th>\n",
       "      <td>Bug report</td>\n",
       "      <td>453</td>\n",
       "      <td>246</td>\n",
       "      <td>193</td>\n",
       "      <td>170</td>\n",
       "      <td>372</td>\n",
       "    </tr>\n",
       "    <tr>\n",
       "      <th>1</th>\n",
       "      <td>Feature Request</td>\n",
       "      <td>312</td>\n",
       "      <td>197</td>\n",
       "      <td>165</td>\n",
       "      <td>156</td>\n",
       "      <td>193</td>\n",
       "    </tr>\n",
       "    <tr>\n",
       "      <th>2</th>\n",
       "      <td>User Experience</td>\n",
       "      <td>107</td>\n",
       "      <td>73</td>\n",
       "      <td>115</td>\n",
       "      <td>131</td>\n",
       "      <td>69</td>\n",
       "    </tr>\n",
       "    <tr>\n",
       "      <th>3</th>\n",
       "      <td>Rating</td>\n",
       "      <td>90</td>\n",
       "      <td>69</td>\n",
       "      <td>76</td>\n",
       "      <td>103</td>\n",
       "      <td>41</td>\n",
       "    </tr>\n",
       "  </tbody>\n",
       "</table>\n",
       "</div>"
      ],
      "text/plain": [
       "             Class  1 star  2 star  3 star  4 star  5 star\n",
       "0      Bug report      453     246     193     170     372\n",
       "1  Feature Request     312     197     165     156     193\n",
       "2  User Experience     107      73     115     131      69\n",
       "3           Rating      90      69      76     103      41"
      ]
     },
     "execution_count": 72,
     "metadata": {},
     "output_type": "execute_result"
    }
   ],
   "source": [
    "data = {'Class':['Bug report','Feature Request','User Experience','Rating'],'1 star':l1,'2 star':l2,'3 star':l3,'4 star':l4,'5 star':l5}\n",
    "pd.DataFrame(data)"
   ]
  },
  {
   "cell_type": "code",
   "execution_count": 104,
   "metadata": {},
   "outputs": [
    {
     "data": {
      "image/png": "[encoded data removed]",
      "text/plain": [
       "<Figure size 432x288 with 5 Axes>"
      ]
     },
     "metadata": {},
     "output_type": "display_data"
    }
   ],
   "source": [
    "labels = 'Bug report','Feature Request','User Experience','Rating'\n",
    "\n",
    "fig, axs = plt.subplots(1, 5)\n",
    "axs[0].pie(l1, labels=labels, autopct='%1.1f%%', shadow=True)\n",
    "axs[1].pie(l2, labels=labels, autopct='%1.1f%%', shadow=True)\n",
    "axs[2].pie(l3, labels=labels, autopct='%1.1f%%', shadow=True)\n",
    "axs[3].pie(l4, labels=labels, autopct='%1.1f%%', shadow=True)\n",
    "axs[4].pie(l5, labels=labels, autopct='%1.1f%%', shadow=True)\n",
    "\n",
    "plt.show()"
   ]
  },
  {
   "cell_type": "code",
   "execution_count": 107,
   "metadata": {},
   "outputs": [],
   "source": [
    "# fig,axes=plt.subplots(1,5)#创建画布\n",
    "# labels = 'Bug report','Feature Request','User Experience','Rating'\n",
    "\n",
    "# axes[0].pie(l1,\n",
    "#         labels=labels,\n",
    "#         autopct='%.2f%%',#数值设置为保留固定小数位的百分数\n",
    "#         shadow=False,#无阴影设置\n",
    "#         startangle=90,#逆时针起始角度设置\n",
    "#         pctdistance=0.5,#数值距圆心半径背书距离\n",
    "#         labeldistance =1.05#图例距圆心半径倍距离\n",
    "#        )#在axes[0]上绘制男性饼图\n",
    "# axes[0].axis('equal')#x,y轴刻度一致，保证饼图为圆形\n",
    "\n",
    "# axes[1].pie(l2,\n",
    "#         labels=labels,\n",
    "#         autopct='%.2f%%',#数值设置为保留固定小数位的百分数\n",
    "#         shadow=False,#无阴影设置\n",
    "#         startangle=180,#逆时针起始角度设置\n",
    "#         pctdistance=0.5,#数值距圆心半径背书距离\n",
    "#         labeldistance =1.05#图例距圆心半径倍距离\n",
    "#        )#在axes[1]上绘制女性饼图\n",
    "# axes[1].axis('equal')#x,y轴刻度一致，保证饼图为圆形\n",
    "\n",
    "# axes[2].pie(l3,\n",
    "#         labels=labels,\n",
    "#         autopct='%.2f%%',#数值设置为保留固定小数位的百分数\n",
    "#         shadow=False,#无阴影设置\n",
    "#         startangle=180,#逆时针起始角度设置\n",
    "#         pctdistance=0.5,#数值距圆心半径背书距离\n",
    "#         labeldistance =1.05#图例距圆心半径倍距离\n",
    "#        )#在axes[1]上绘制女性饼图\n",
    "# axes[2].axis('equal')#x,y轴刻度一致，保证饼图为圆形\n",
    "\n",
    "# axes[3].pie(l4,\n",
    "#         labels=labels,\n",
    "#         autopct='%.2f%%',#数值设置为保留固定小数位的百分数\n",
    "#         shadow=False,#无阴影设置\n",
    "#         startangle=180,#逆时针起始角度设置\n",
    "#         pctdistance=0.5,#数值距圆心半径背书距离\n",
    "#         labeldistance =1.05#图例距圆心半径倍距离\n",
    "#        )#在axes[1]上绘制女性饼图\n",
    "# axes[3].axis('equal')#x,y轴刻度一致，保证饼图为圆形\n",
    "\n",
    "# axes[4].pie(l5,\n",
    "#         labels=labels,\n",
    "#         autopct='%.2f%%',#数值设置为保留固定小数位的百分数\n",
    "#         shadow=False,#无阴影设置\n",
    "#         startangle=180,#逆时针起始角度设置\n",
    "#         pctdistance=0.5,#数值距圆心半径背书距离\n",
    "#         labeldistance =1.05#图例距圆心半径倍距离\n",
    "#        )#在axes[1]上绘制女性饼图\n",
    "# axes[4].axis('equal')#x,y轴刻度一致，保证饼图为圆形\n"
   ]
  },
  {
   "cell_type": "code",
   "execution_count": null,
   "metadata": {},
   "outputs": [],
   "source": []
  }
 ],
 "metadata": {
  "kernelspec": {
   "display_name": "Python 3",
   "language": "python",
   "name": "python3"
  },
  "language_info": {
   "codemirror_mode": {
    "name": "ipython",
    "version": 3
   },
   "file_extension": ".py",
   "mimetype": "text/x-python",
   "name": "python",
   "nbconvert_exporter": "python",
   "pygments_lexer": "ipython3",
   "version": "3.8.5"
  }
 },
 "nbformat": 4,
 "nbformat_minor": 4
}
