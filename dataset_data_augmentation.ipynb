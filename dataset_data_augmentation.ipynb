{
 "cells": [
  {
   "cell_type": "code",
   "execution_count": 3,
   "metadata": {},
   "outputs": [
    {
     "name": "stdout",
     "output_type": "stream",
     "text": [
      "Original sentence:\n",
      "cant turn off notif if i do so the app will crush and notif bar start flicker pixel 6pro\n",
      "\n",
      "Augmented sentences:\n",
      "patois turn off notif if i do so the app will crush and notif bar start flicker pixel 6pro\n"
     ]
    }
   ],
   "source": [
    "import nltk\n",
    "import openpyxl\n",
    "from nltk.corpus import wordnet\n",
    "\n",
    "# Define a function to get synonyms of a word from WordNet\n",
    "def get_synonyms(word):\n",
    "    synonyms = set()\n",
    "    for syn in wordnet.synsets(word):\n",
    "        for lemma in syn.lemmas():\n",
    "            synonyms.add(lemma.name().lower())\n",
    "    return list(synonyms)\n",
    "\n",
    "# Define a function to replace words in a sentence with synonyms\n",
    "def replace_with_synonyms(sentence, n_augment=3):\n",
    "    words = nltk.word_tokenize(sentence)\n",
    "    augmented_sentences = []\n",
    "    for word_index, word in enumerate(words):\n",
    "        # Get synonyms of the word\n",
    "        synonyms = get_synonyms(word)\n",
    "        if synonyms:\n",
    "            # Replace the word with a random synonym\n",
    "            for i in range(n_augment):\n",
    "                new_sentence = ' '.join(words[:word_index] + [synonyms[i % len(synonyms)]] + words[word_index+1:])\n",
    "                augmented_sentences.append(new_sentence)\n",
    "    return augmented_sentences\n",
    "\n",
    "# Example usage\n",
    "original_sentence = \"cant turn off notif if i do so the app will crush and notif bar start flicker pixel 6pro\"\n",
    "augmented_sentences = replace_with_synonyms(original_sentence, n_augment=3)\n",
    "print(\"Original sentence:\")\n",
    "print(original_sentence)\n",
    "print()\n",
    "print(\"Augmented sentences:\")\n",
    "print(augmented_sentences[0])"
   ]
  },
  {
   "cell_type": "code",
   "execution_count": 6,
   "metadata": {},
   "outputs": [
    {
     "name": "stdout",
     "output_type": "stream",
     "text": [
      "7996\n",
      "over\n"
     ]
    }
   ],
   "source": [
    "workbook = openpyxl.load_workbook(\"/Users/htp/Desktop/dataset_NLU.xlsx\")\n",
    "sheet = workbook['Sheet1']\n",
    "\n",
    "max_row = sheet.max_row\n",
    "print(max_row)\n",
    "\n",
    "for i in range(2,max_row+1):\n",
    "    review = sheet.cell(i, 2).value\n",
    "    augmented_sentences = replace_with_synonyms(review, n_augment=3)\n",
    "    sheet.cell(i+max_row-1, 1).value = i+max_row-1\n",
    "    if len(augmented_sentences) == 0:\n",
    "        continue\n",
    "    else:\n",
    "        sheet.cell(i+max_row-1, 2).value = augmented_sentences[1]\n",
    "    sheet.cell(i+max_row-1, 3).value = sheet.cell(i, 3).value\n",
    "    sheet.cell(i+max_row-1, 4).value = sheet.cell(i, 4).value\n",
    "    \n",
    "workbook.save(\"/Users/htp/Desktop/dataset_NLU.xlsx\")\n",
    "workbook.close()\n",
    "print(\"over\")"
   ]
  },
  {
   "cell_type": "code",
   "execution_count": null,
   "metadata": {},
   "outputs": [],
   "source": []
  }
 ],
 "metadata": {
  "kernelspec": {
   "display_name": "Python 3 (ipykernel)",
   "language": "python",
   "name": "python3"
  },
  "language_info": {
   "codemirror_mode": {
    "name": "ipython",
    "version": 3
   },
   "file_extension": ".py",
   "mimetype": "text/x-python",
   "name": "python",
   "nbconvert_exporter": "python",
   "pygments_lexer": "ipython3",
   "version": "3.11.5"
  }
 },
 "nbformat": 4,
 "nbformat_minor": 4
}
