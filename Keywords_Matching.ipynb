{
 "cells": [
  {
   "cell_type": "code",
   "execution_count": 78,
   "metadata": {
    "colab": {
     "base_uri": "https://localhost:8080/"
    },
    "id": "JEwrvnmyxK4H",
    "outputId": "99ab6a53-ecbc-4c92-d1a6-ba5aaa8a864a",
    "scrolled": true
   },
   "outputs": [
    {
     "name": "stdout",
     "output_type": "stream",
     "text": [
      "Cloning into 'Google-Play-App-Reviews-Datasets'...\n",
      "remote: Enumerating objects: 13, done.\u001b[K\n",
      "remote: Counting objects: 100% (13/13), done.\u001b[K\n",
      "remote: Compressing objects: 100% (12/12), done.\u001b[K\n",
      "remote: Total 13 (delta 2), reused 0 (delta 0), pack-reused 0\u001b[K\n",
      "Unpacking objects: 100% (13/13), 3.18 MiB | 5.98 MiB/s, done.\n"
     ]
    }
   ],
   "source": [
    "# datasets from my GitHub\n",
    "!git clone https://github.com/William-HTP/Google-Play-App-Reviews-Datasets.git"
   ]
  },
  {
   "cell_type": "code",
   "execution_count": 1,
   "metadata": {
    "id": "N7JlRXFF5FyQ"
   },
   "outputs": [],
   "source": [
    "import openpyxl\n",
    "import numpy as np\n",
    "import pandas as pd\n",
    "import matplotlib.pyplot as plt\n",
    "\n",
    "from sklearn.metrics import ConfusionMatrixDisplay\n",
    "from sklearn.metrics import classification_report, confusion_matrix"
   ]
  },
  {
   "cell_type": "code",
   "execution_count": 87,
   "metadata": {
    "colab": {
     "base_uri": "https://localhost:8080/",
     "height": 971
    },
    "id": "zcTlGCrLxZlt",
    "outputId": "ee3e3c05-9ac6-40a4-9e5c-19e7facf3b6f"
   },
   "outputs": [
    {
     "data": {
      "text/html": [
       "\n",
       "  <div id=\"df-99294efe-61c4-49e0-ac3a-b88e578d396f\">\n",
       "    <div class=\"colab-df-container\">\n",
       "      <div>\n",
       "<style scoped>\n",
       "    .dataframe tbody tr th:only-of-type {\n",
       "        vertical-align: middle;\n",
       "    }\n",
       "\n",
       "    .dataframe tbody tr th {\n",
       "        vertical-align: top;\n",
       "    }\n",
       "\n",
       "    .dataframe thead th {\n",
       "        text-align: right;\n",
       "    }\n",
       "</style>\n",
       "<table border=\"1\" class=\"dataframe\">\n",
       "  <thead>\n",
       "    <tr style=\"text-align: right;\">\n",
       "      <th></th>\n",
       "      <th>ID</th>\n",
       "      <th>review</th>\n",
       "      <th>label</th>\n",
       "      <th>new_label</th>\n",
       "      <th>remove_all_stopwords</th>\n",
       "      <th>remove_some_stopwords</th>\n",
       "      <th>stemming</th>\n",
       "      <th>lemmatization</th>\n",
       "    </tr>\n",
       "  </thead>\n",
       "  <tbody>\n",
       "    <tr>\n",
       "      <th>0</th>\n",
       "      <td>1</td>\n",
       "      <td>Not able to add freinds. It show something went wrong.. Recommend not to install it</td>\n",
       "      <td>bug report</td>\n",
       "      <td>0</td>\n",
       "      <td>able add freinds show something went wrong recommend install</td>\n",
       "      <td>not able add freinds show something went wrong recommend not install</td>\n",
       "      <td>not abl to add freind it show someth went wrong recommend not to instal it</td>\n",
       "      <td>not able to add freinds it show something went wrong recommend not to install it</td>\n",
       "    </tr>\n",
       "    <tr>\n",
       "      <th>1</th>\n",
       "      <td>2</td>\n",
       "      <td>Calls keep dropping for no reason and is super annoying</td>\n",
       "      <td>bug report</td>\n",
       "      <td>0</td>\n",
       "      <td>calls keep dropping reason super annoying</td>\n",
       "      <td>calls keep dropping no reason super annoying</td>\n",
       "      <td>call keep drop for no reason and is super annoy</td>\n",
       "      <td>call keep dropping for no reason and is super annoying</td>\n",
       "    </tr>\n",
       "    <tr>\n",
       "      <th>2</th>\n",
       "      <td>3</td>\n",
       "      <td>Can't access to my account solve this issue immediately</td>\n",
       "      <td>bug report</td>\n",
       "      <td>0</td>\n",
       "      <td>cant access account solve issue immediately</td>\n",
       "      <td>cant access account solve issue immediately</td>\n",
       "      <td>cant access to my account solv thi issu immedi</td>\n",
       "      <td>cant access to my account solve this issue immediately</td>\n",
       "    </tr>\n",
       "    <tr>\n",
       "      <th>3</th>\n",
       "      <td>4</td>\n",
       "      <td>I don't know what's wrong with my own WhatsApp. Its not working. And if I want to sign up, it will just be bringing try again later. You guys should see to it.</td>\n",
       "      <td>bug report</td>\n",
       "      <td>0</td>\n",
       "      <td>dont know whats wrong whatsapp working want sign bringing try later guys see</td>\n",
       "      <td>dont know whats wrong whatsapp not working want sign up will bringing try again later guys should see</td>\n",
       "      <td>i dont know what wrong with my own whatsapp it not work and if i want to sign up it will just be bring tri again later you guy should see to it</td>\n",
       "      <td>i dont know whats wrong with my own whatsapp it not working and if i want to sign up it will just be bringing try again later you guy should see to it</td>\n",
       "    </tr>\n",
       "    <tr>\n",
       "      <th>4</th>\n",
       "      <td>5</td>\n",
       "      <td>Cannot record audio while taking video</td>\n",
       "      <td>bug report</td>\n",
       "      <td>0</td>\n",
       "      <td>cannot record audio taking video</td>\n",
       "      <td>cannot record audio taking video</td>\n",
       "      <td>cannot record audio while take video</td>\n",
       "      <td>cannot record audio while taking video</td>\n",
       "    </tr>\n",
       "    <tr>\n",
       "      <th>...</th>\n",
       "      <td>...</td>\n",
       "      <td>...</td>\n",
       "      <td>...</td>\n",
       "      <td>...</td>\n",
       "      <td>...</td>\n",
       "      <td>...</td>\n",
       "      <td>...</td>\n",
       "      <td>...</td>\n",
       "    </tr>\n",
       "    <tr>\n",
       "      <th>7995</th>\n",
       "      <td>7996</td>\n",
       "      <td>good app, l will give you 5 star!</td>\n",
       "      <td>rating</td>\n",
       "      <td>2</td>\n",
       "      <td>good app l give 5 star</td>\n",
       "      <td>good app l will give 5 star</td>\n",
       "      <td>good app l will give you 5 star</td>\n",
       "      <td>good app l will give you 5 star</td>\n",
       "    </tr>\n",
       "    <tr>\n",
       "      <th>7996</th>\n",
       "      <td>7997</td>\n",
       "      <td>Never had a problem with it.</td>\n",
       "      <td>rating</td>\n",
       "      <td>2</td>\n",
       "      <td>never problem</td>\n",
       "      <td>never problem</td>\n",
       "      <td>never had a problem with it</td>\n",
       "      <td>never had a problem with it</td>\n",
       "    </tr>\n",
       "    <tr>\n",
       "      <th>7997</th>\n",
       "      <td>7998</td>\n",
       "      <td>It  s great and I recommend it all the time to others.</td>\n",
       "      <td>rating</td>\n",
       "      <td>2</td>\n",
       "      <td>great recommend time others</td>\n",
       "      <td>great recommend all time others</td>\n",
       "      <td>it s great and i recommend it all the time to other</td>\n",
       "      <td>it s great and i recommend it all the time to others</td>\n",
       "    </tr>\n",
       "    <tr>\n",
       "      <th>7998</th>\n",
       "      <td>7999</td>\n",
       "      <td>Everyone can use this app ,</td>\n",
       "      <td>rating</td>\n",
       "      <td>2</td>\n",
       "      <td>everyone use app</td>\n",
       "      <td>everyone can use app</td>\n",
       "      <td>everyon can use thi app</td>\n",
       "      <td>everyone can use this app</td>\n",
       "    </tr>\n",
       "    <tr>\n",
       "      <th>7999</th>\n",
       "      <td>8000</td>\n",
       "      <td>I had to Google it to discover that you have to tap the camera button, then the little image icon.</td>\n",
       "      <td>user experience</td>\n",
       "      <td>3</td>\n",
       "      <td>google discover tap camera button little image icon</td>\n",
       "      <td>google discover have tap camera button little image icon</td>\n",
       "      <td>i had to googl it to discov that you have to tap the camera button then the littl imag icon</td>\n",
       "      <td>i had to google it to discover that you have to tap the camera button then the little image icon</td>\n",
       "    </tr>\n",
       "  </tbody>\n",
       "</table>\n",
       "<p>8000 rows × 8 columns</p>\n",
       "</div>\n",
       "      <button class=\"colab-df-convert\" onclick=\"convertToInteractive('df-99294efe-61c4-49e0-ac3a-b88e578d396f')\"\n",
       "              title=\"Convert this dataframe to an interactive table.\"\n",
       "              style=\"display:none;\">\n",
       "        \n",
       "  <svg xmlns=\"http://www.w3.org/2000/svg\" height=\"24px\"viewBox=\"0 0 24 24\"\n",
       "       width=\"24px\">\n",
       "    <path d=\"M0 0h24v24H0V0z\" fill=\"none\"/>\n",
       "    <path d=\"M18.56 5.44l.94 2.06.94-2.06 2.06-.94-2.06-.94-.94-2.06-.94 2.06-2.06.94zm-11 1L8.5 8.5l.94-2.06 2.06-.94-2.06-.94L8.5 2.5l-.94 2.06-2.06.94zm10 10l.94 2.06.94-2.06 2.06-.94-2.06-.94-.94-2.06-.94 2.06-2.06.94z\"/><path d=\"M17.41 7.96l-1.37-1.37c-.4-.4-.92-.59-1.43-.59-.52 0-1.04.2-1.43.59L10.3 9.45l-7.72 7.72c-.78.78-.78 2.05 0 2.83L4 21.41c.39.39.9.59 1.41.59.51 0 1.02-.2 1.41-.59l7.78-7.78 2.81-2.81c.8-.78.8-2.07 0-2.86zM5.41 20L4 18.59l7.72-7.72 1.47 1.35L5.41 20z\"/>\n",
       "  </svg>\n",
       "      </button>\n",
       "      \n",
       "  <style>\n",
       "    .colab-df-container {\n",
       "      display:flex;\n",
       "      flex-wrap:wrap;\n",
       "      gap: 12px;\n",
       "    }\n",
       "\n",
       "    .colab-df-convert {\n",
       "      background-color: #E8F0FE;\n",
       "      border: none;\n",
       "      border-radius: 50%;\n",
       "      cursor: pointer;\n",
       "      display: none;\n",
       "      fill: #1967D2;\n",
       "      height: 32px;\n",
       "      padding: 0 0 0 0;\n",
       "      width: 32px;\n",
       "    }\n",
       "\n",
       "    .colab-df-convert:hover {\n",
       "      background-color: #E2EBFA;\n",
       "      box-shadow: 0px 1px 2px rgba(60, 64, 67, 0.3), 0px 1px 3px 1px rgba(60, 64, 67, 0.15);\n",
       "      fill: #174EA6;\n",
       "    }\n",
       "\n",
       "    [theme=dark] .colab-df-convert {\n",
       "      background-color: #3B4455;\n",
       "      fill: #D2E3FC;\n",
       "    }\n",
       "\n",
       "    [theme=dark] .colab-df-convert:hover {\n",
       "      background-color: #434B5C;\n",
       "      box-shadow: 0px 1px 3px 1px rgba(0, 0, 0, 0.15);\n",
       "      filter: drop-shadow(0px 1px 2px rgba(0, 0, 0, 0.3));\n",
       "      fill: #FFFFFF;\n",
       "    }\n",
       "  </style>\n",
       "\n",
       "      <script>\n",
       "        const buttonEl =\n",
       "          document.querySelector('#df-99294efe-61c4-49e0-ac3a-b88e578d396f button.colab-df-convert');\n",
       "        buttonEl.style.display =\n",
       "          google.colab.kernel.accessAllowed ? 'block' : 'none';\n",
       "\n",
       "        async function convertToInteractive(key) {\n",
       "          const element = document.querySelector('#df-99294efe-61c4-49e0-ac3a-b88e578d396f');\n",
       "          const dataTable =\n",
       "            await google.colab.kernel.invokeFunction('convertToInteractive',\n",
       "                                                     [key], {});\n",
       "          if (!dataTable) return;\n",
       "\n",
       "          const docLinkHtml = 'Like what you see? Visit the ' +\n",
       "            '<a target=\"_blank\" href=https://colab.research.google.com/notebooks/data_table.ipynb>data table notebook</a>'\n",
       "            + ' to learn more about interactive tables.';\n",
       "          element.innerHTML = '';\n",
       "          dataTable['output_type'] = 'display_data';\n",
       "          await google.colab.output.renderOutput(dataTable, element);\n",
       "          const docLink = document.createElement('div');\n",
       "          docLink.innerHTML = docLinkHtml;\n",
       "          element.appendChild(docLink);\n",
       "        }\n",
       "      </script>\n",
       "    </div>\n",
       "  </div>\n",
       "  "
      ],
      "text/plain": [
       "        ID  \\\n",
       "0        1   \n",
       "1        2   \n",
       "2        3   \n",
       "3        4   \n",
       "4        5   \n",
       "...    ...   \n",
       "7995  7996   \n",
       "7996  7997   \n",
       "7997  7998   \n",
       "7998  7999   \n",
       "7999  8000   \n",
       "\n",
       "                                                                                                                                                               review  \\\n",
       "0                                                                                 Not able to add freinds. It show something went wrong.. Recommend not to install it   \n",
       "1                                                                                                             Calls keep dropping for no reason and is super annoying   \n",
       "2                                                                                                             Can't access to my account solve this issue immediately   \n",
       "3     I don't know what's wrong with my own WhatsApp. Its not working. And if I want to sign up, it will just be bringing try again later. You guys should see to it.   \n",
       "4                                                                                                                              Cannot record audio while taking video   \n",
       "...                                                                                                                                                               ...   \n",
       "7995                                                                                                                                good app, l will give you 5 star!   \n",
       "7996                                                                                                                                     Never had a problem with it.   \n",
       "7997                                                                                                           It  s great and I recommend it all the time to others.   \n",
       "7998                                                                                                                                      Everyone can use this app ,   \n",
       "7999                                                               I had to Google it to discover that you have to tap the camera button, then the little image icon.   \n",
       "\n",
       "                label  new_label  \\\n",
       "0          bug report          0   \n",
       "1          bug report          0   \n",
       "2          bug report          0   \n",
       "3          bug report          0   \n",
       "4          bug report          0   \n",
       "...               ...        ...   \n",
       "7995           rating          2   \n",
       "7996           rating          2   \n",
       "7997           rating          2   \n",
       "7998           rating          2   \n",
       "7999  user experience          3   \n",
       "\n",
       "                                                              remove_all_stopwords  \\\n",
       "0                     able add freinds show something went wrong recommend install   \n",
       "1                                        calls keep dropping reason super annoying   \n",
       "2                                      cant access account solve issue immediately   \n",
       "3     dont know whats wrong whatsapp working want sign bringing try later guys see   \n",
       "4                                                 cannot record audio taking video   \n",
       "...                                                                            ...   \n",
       "7995                                                        good app l give 5 star   \n",
       "7996                                                                 never problem   \n",
       "7997                                                   great recommend time others   \n",
       "7998                                                              everyone use app   \n",
       "7999                           google discover tap camera button little image icon   \n",
       "\n",
       "                                                                                      remove_some_stopwords  \\\n",
       "0                                      not able add freinds show something went wrong recommend not install   \n",
       "1                                                              calls keep dropping no reason super annoying   \n",
       "2                                                               cant access account solve issue immediately   \n",
       "3     dont know whats wrong whatsapp not working want sign up will bringing try again later guys should see   \n",
       "4                                                                          cannot record audio taking video   \n",
       "...                                                                                                     ...   \n",
       "7995                                                                            good app l will give 5 star   \n",
       "7996                                                                                          never problem   \n",
       "7997                                                                        great recommend all time others   \n",
       "7998                                                                                   everyone can use app   \n",
       "7999                                               google discover have tap camera button little image icon   \n",
       "\n",
       "                                                                                                                                             stemming  \\\n",
       "0                                                                          not abl to add freind it show someth went wrong recommend not to instal it   \n",
       "1                                                                                                     call keep drop for no reason and is super annoy   \n",
       "2                                                                                                      cant access to my account solv thi issu immedi   \n",
       "3     i dont know what wrong with my own whatsapp it not work and if i want to sign up it will just be bring tri again later you guy should see to it   \n",
       "4                                                                                                                cannot record audio while take video   \n",
       "...                                                                                                                                               ...   \n",
       "7995                                                                                                                  good app l will give you 5 star   \n",
       "7996                                                                                                                      never had a problem with it   \n",
       "7997                                                                                              it s great and i recommend it all the time to other   \n",
       "7998                                                                                                                          everyon can use thi app   \n",
       "7999                                                      i had to googl it to discov that you have to tap the camera button then the littl imag icon   \n",
       "\n",
       "                                                                                                                                               lemmatization  \n",
       "0                                                                           not able to add freinds it show something went wrong recommend not to install it  \n",
       "1                                                                                                     call keep dropping for no reason and is super annoying  \n",
       "2                                                                                                     cant access to my account solve this issue immediately  \n",
       "3     i dont know whats wrong with my own whatsapp it not working and if i want to sign up it will just be bringing try again later you guy should see to it  \n",
       "4                                                                                                                     cannot record audio while taking video  \n",
       "...                                                                                                                                                      ...  \n",
       "7995                                                                                                                         good app l will give you 5 star  \n",
       "7996                                                                                                                             never had a problem with it  \n",
       "7997                                                                                                    it s great and i recommend it all the time to others  \n",
       "7998                                                                                                                               everyone can use this app  \n",
       "7999                                                        i had to google it to discover that you have to tap the camera button then the little image icon  \n",
       "\n",
       "[8000 rows x 8 columns]"
      ]
     },
     "execution_count": 87,
     "metadata": {},
     "output_type": "execute_result"
    }
   ],
   "source": [
    "# load dataset\n",
    "df = pd.read_excel('/content/Google-Play-App-Reviews-Datasets/dataset_balanced_8000.xlsx')\n",
    "pd.set_option('display.max_colwidth', None)\n",
    "df"
   ]
  },
  {
   "cell_type": "code",
   "execution_count": 88,
   "metadata": {
    "colab": {
     "base_uri": "https://localhost:8080/"
    },
    "id": "iJFqALg_yWpk",
    "outputId": "acb49fcc-d36c-428b-f3e0-97edb2d9530a"
   },
   "outputs": [
    {
     "name": "stdout",
     "output_type": "stream",
     "text": [
      "<class 'pandas.core.frame.DataFrame'>\n",
      "RangeIndex: 8000 entries, 0 to 7999\n",
      "Data columns (total 8 columns):\n",
      " #   Column                 Non-Null Count  Dtype \n",
      "---  ------                 --------------  ----- \n",
      " 0   ID                     8000 non-null   int64 \n",
      " 1   review                 8000 non-null   object\n",
      " 2   label                  8000 non-null   object\n",
      " 3   new_label              8000 non-null   int64 \n",
      " 4   remove_all_stopwords   8000 non-null   object\n",
      " 5   remove_some_stopwords  8000 non-null   object\n",
      " 6   stemming               8000 non-null   object\n",
      " 7   lemmatization          8000 non-null   object\n",
      "dtypes: int64(2), object(6)\n",
      "memory usage: 500.1+ KB\n"
     ]
    }
   ],
   "source": [
    "df.info()"
   ]
  },
  {
   "cell_type": "code",
   "execution_count": 89,
   "metadata": {
    "colab": {
     "base_uri": "https://localhost:8080/"
    },
    "id": "JWTumTro5FyV",
    "outputId": "42099ef3-313f-431b-a4ca-af4e1517e275"
   },
   "outputs": [
    {
     "data": {
      "text/plain": [
       "bug report         2000\n",
       "feature request    2000\n",
       "rating             2000\n",
       "user experience    2000\n",
       "Name: label, dtype: int64"
      ]
     },
     "execution_count": 89,
     "metadata": {},
     "output_type": "execute_result"
    }
   ],
   "source": [
    "# dataset label\n",
    "df['label'].value_counts()"
   ]
  },
  {
   "cell_type": "code",
   "execution_count": 90,
   "metadata": {
    "id": "ak1lH5Cp5FyW"
   },
   "outputs": [],
   "source": [
    "# key words in each labels\n",
    "bug_reports = [\"bug\", \"fix\", \"problem\", \"issue\", \"defect\", \"crash\", \"solve\"]\n",
    "feature_requests = [\"add\", \"please\", \"could\", \"would\", \"hope\", \"improve\", \"miss\", \"need\", \"prefer\", \"request\", \"should\", \"suggest\", \"want\", \"wish\"]\n",
    "user_experiences = [\"help\", \"support\", \"assist\", \"when\", \"situation\"]\n",
    "ratings = [\"great\", \"good\", \"nice\", \"very\", \"cool\", \"love\", \"hate\", \"bad\", \"worst\"]"
   ]
  },
  {
   "cell_type": "code",
   "execution_count": 91,
   "metadata": {
    "id": "gIuEmteHhZ0f"
   },
   "outputs": [],
   "source": [
    "# list of true_labels and review\n",
    "true_labels = df['label'].values\n",
    "review = df['review'].values\n",
    "# review = df['remove_all_stopwords'].values\n",
    "# review = df['remove_some_stopwords'].values\n",
    "# review = df['stemming'].values\n",
    "# review = df['lemmatization'].values"
   ]
  },
  {
   "cell_type": "code",
   "execution_count": 92,
   "metadata": {
    "colab": {
     "base_uri": "https://localhost:8080/"
    },
    "id": "FWRKX7g85FyX",
    "outputId": "4bd23aca-a095-464a-c2bb-618b566f809d"
   },
   "outputs": [
    {
     "name": "stdout",
     "output_type": "stream",
     "text": [
      "Accuracy: 30.81%\n"
     ]
    }
   ],
   "source": [
    "count = 0\n",
    "pred_labels = []\n",
    "\n",
    "for i in range(len(review)):\n",
    "    string_mark = {\"bug report\":0, \"feature request\":0, \"user experience\":0, \"rating\":0}\n",
    "    sent = review[i]\n",
    "    sent = sent.lower()\n",
    "    token = sent.split(\" \")\n",
    "\n",
    "    # keywords mathching\n",
    "    for j in token:\n",
    "        if j in bug_reports:\n",
    "            string_mark[\"bug report\"] += 1\n",
    "        if j in feature_requests:\n",
    "            string_mark[\"feature request\"] += 1\n",
    "        if j in user_experiences:\n",
    "            string_mark[\"user experience\"] += 1\n",
    "        if j in ratings:\n",
    "            string_mark[\"rating\"] += 1\n",
    "\n",
    "    # predict label\n",
    "    if max(string_mark.values()) != 0:\n",
    "        label = max(string_mark,key=lambda x:string_mark[x])\n",
    "        pred_labels.append(label)\n",
    "        if label == true_labels[i]:\n",
    "            count += 1\n",
    "    else:\n",
    "        pred_labels.append(\"NO label\")\n",
    "        count += 0\n",
    "\n",
    "# accuracy\n",
    "print('Accuracy: {:.2%}'.format(count/len(review)))"
   ]
  },
  {
   "cell_type": "code",
   "execution_count": 93,
   "metadata": {
    "colab": {
     "base_uri": "https://localhost:8080/"
    },
    "id": "hb5sS6Iwh1tf",
    "outputId": "8ff11495-c0ea-43c3-95b5-ce796d6a570b"
   },
   "outputs": [
    {
     "name": "stderr",
     "output_type": "stream",
     "text": [
      "/usr/local/lib/python3.9/dist-packages/sklearn/metrics/_classification.py:1344: UndefinedMetricWarning: Recall and F-score are ill-defined and being set to 0.0 in labels with no true samples. Use `zero_division` parameter to control this behavior.\n",
      "  _warn_prf(average, modifier, msg_start, len(result))\n",
      "/usr/local/lib/python3.9/dist-packages/sklearn/metrics/_classification.py:1344: UndefinedMetricWarning: Recall and F-score are ill-defined and being set to 0.0 in labels with no true samples. Use `zero_division` parameter to control this behavior.\n",
      "  _warn_prf(average, modifier, msg_start, len(result))\n"
     ]
    },
    {
     "name": "stdout",
     "output_type": "stream",
     "text": [
      "                 precision    recall  f1-score   support\n",
      "\n",
      "       NO label       0.00      0.00      0.00         0\n",
      "     bug report       0.70      0.24      0.36      2000\n",
      "feature request       0.57      0.56      0.56      2000\n",
      "         rating       0.40      0.36      0.38      2000\n",
      "user experience       0.33      0.07      0.12      2000\n",
      "\n",
      "       accuracy                           0.31      8000\n",
      "      macro avg       0.40      0.25      0.28      8000\n",
      "   weighted avg       0.50      0.31      0.35      8000\n",
      "\n"
     ]
    },
    {
     "name": "stderr",
     "output_type": "stream",
     "text": [
      "/usr/local/lib/python3.9/dist-packages/sklearn/metrics/_classification.py:1344: UndefinedMetricWarning: Recall and F-score are ill-defined and being set to 0.0 in labels with no true samples. Use `zero_division` parameter to control this behavior.\n",
      "  _warn_prf(average, modifier, msg_start, len(result))\n"
     ]
    }
   ],
   "source": [
    "# classification_report\n",
    "print(classification_report(true_labels, pred_labels))"
   ]
  }
 ],
 "metadata": {
  "colab": {
   "provenance": []
  },
  "gpuClass": "standard",
  "kernelspec": {
   "display_name": "Python 3 (ipykernel)",
   "language": "python",
   "name": "python3"
  },
  "language_info": {
   "codemirror_mode": {
    "name": "ipython",
    "version": 3
   },
   "file_extension": ".py",
   "mimetype": "text/x-python",
   "name": "python",
   "nbconvert_exporter": "python",
   "pygments_lexer": "ipython3",
   "version": "3.11.5"
  }
 },
 "nbformat": 4,
 "nbformat_minor": 1
}
